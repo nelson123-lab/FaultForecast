{
  "nbformat": 4,
  "nbformat_minor": 0,
  "metadata": {
    "colab": {
      "provenance": []
    },
    "kernelspec": {
      "name": "python3",
      "display_name": "Python 3"
    },
    "language_info": {
      "name": "python"
    }
  },
  "cells": [
    {
      "cell_type": "code",
      "execution_count": 161,
      "metadata": {
        "id": "mDxwfQmGCoZz"
      },
      "outputs": [],
      "source": [
        "# Importing all the necessary libraries.\n",
        "import pandas as pd\n",
        "import numpy as np"
      ]
    },
    {
      "cell_type": "code",
      "source": [
        "# Loading the train and test data.\n",
        "train = pd.read_csv(\"/content/drive/MyDrive/fronteir challenge/training_data.csv\")\n",
        "test = pd.read_csv(\"/content/drive/MyDrive/fronteir challenge/test_data.csv\")"
      ],
      "metadata": {
        "colab": {
          "base_uri": "https://localhost:8080/"
        },
        "id": "WogDatsgFPZS",
        "outputId": "4b146e3d-7693-4dd2-8879-a3969efba2da"
      },
      "execution_count": 162,
      "outputs": [
        {
          "output_type": "stream",
          "name": "stderr",
          "text": [
            "<ipython-input-162-015103346b42>:2: DtypeWarning: Columns (25) have mixed types. Specify dtype option on import or set low_memory=False.\n",
            "  train = pd.read_csv(\"/content/drive/MyDrive/fronteir challenge/training_data.csv\")\n"
          ]
        }
      ]
    },
    {
      "cell_type": "markdown",
      "source": [
        "# Exploratory data analysis"
      ],
      "metadata": {
        "id": "yPcnbGAdlKsa"
      }
    },
    {
      "cell_type": "code",
      "source": [
        "train.head(5)"
      ],
      "metadata": {
        "colab": {
          "base_uri": "https://localhost:8080/",
          "height": 342
        },
        "id": "sz57JErfEfRg",
        "outputId": "b9d6f7b2-30d7-446d-bc61-59004e0042e6"
      },
      "execution_count": 163,
      "outputs": [
        {
          "output_type": "execute_result",
          "data": {
            "text/plain": [
              "        Customer         clli  year  month  day        date  rack  shelf  \\\n",
              "0  1563347175154  CRTNTXXCOL6  2023      7   30  2023-07-30     1      1   \n",
              "1  1563350698175  CRTNTXXCOL6  2023      7   30  2023-07-30     1      1   \n",
              "2  1563348095607  CRTNTXXCOL6  2023      7   30  2023-07-30     1      1   \n",
              "3  1563344463954  CRTNTXXCOL6  2023      7   30  2023-07-30     1      1   \n",
              "4  1563350500609  CRTNTXXCOL6  2023      7   30  2023-07-30     1      1   \n",
              "\n",
              "   slot  port  ...  total_stops TSO_calls_count  SA_TSO  score REPORT_DATE  \\\n",
              "0    14     2  ...            0             NaN       0      3         NaN   \n",
              "1    14     2  ...            0             NaN       0      3         NaN   \n",
              "2    18     2  ...            0             NaN       0      3         NaN   \n",
              "3    13     2  ...            0             NaN       0      3         NaN   \n",
              "4    13     4  ...            0             NaN       0      3         NaN   \n",
              "\n",
              "   service_repair    TMAX   TMIN  PRCP  SNOW  \n",
              "0             NaN  102.02  80.06   0.0   NaN  \n",
              "1             NaN  102.02  80.06   0.0   NaN  \n",
              "2             NaN  102.02  80.06   0.0   NaN  \n",
              "3             NaN  102.02  80.06   0.0   NaN  \n",
              "4             NaN  102.02  80.06   0.0   NaN  \n",
              "\n",
              "[5 rows x 60 columns]"
            ],
            "text/html": [
              "\n",
              "  <div id=\"df-14591f97-085f-4455-ab12-4a65332fe3da\" class=\"colab-df-container\">\n",
              "    <div>\n",
              "<style scoped>\n",
              "    .dataframe tbody tr th:only-of-type {\n",
              "        vertical-align: middle;\n",
              "    }\n",
              "\n",
              "    .dataframe tbody tr th {\n",
              "        vertical-align: top;\n",
              "    }\n",
              "\n",
              "    .dataframe thead th {\n",
              "        text-align: right;\n",
              "    }\n",
              "</style>\n",
              "<table border=\"1\" class=\"dataframe\">\n",
              "  <thead>\n",
              "    <tr style=\"text-align: right;\">\n",
              "      <th></th>\n",
              "      <th>Customer</th>\n",
              "      <th>clli</th>\n",
              "      <th>year</th>\n",
              "      <th>month</th>\n",
              "      <th>day</th>\n",
              "      <th>date</th>\n",
              "      <th>rack</th>\n",
              "      <th>shelf</th>\n",
              "      <th>slot</th>\n",
              "      <th>port</th>\n",
              "      <th>...</th>\n",
              "      <th>total_stops</th>\n",
              "      <th>TSO_calls_count</th>\n",
              "      <th>SA_TSO</th>\n",
              "      <th>score</th>\n",
              "      <th>REPORT_DATE</th>\n",
              "      <th>service_repair</th>\n",
              "      <th>TMAX</th>\n",
              "      <th>TMIN</th>\n",
              "      <th>PRCP</th>\n",
              "      <th>SNOW</th>\n",
              "    </tr>\n",
              "  </thead>\n",
              "  <tbody>\n",
              "    <tr>\n",
              "      <th>0</th>\n",
              "      <td>1563347175154</td>\n",
              "      <td>CRTNTXXCOL6</td>\n",
              "      <td>2023</td>\n",
              "      <td>7</td>\n",
              "      <td>30</td>\n",
              "      <td>2023-07-30</td>\n",
              "      <td>1</td>\n",
              "      <td>1</td>\n",
              "      <td>14</td>\n",
              "      <td>2</td>\n",
              "      <td>...</td>\n",
              "      <td>0</td>\n",
              "      <td>NaN</td>\n",
              "      <td>0</td>\n",
              "      <td>3</td>\n",
              "      <td>NaN</td>\n",
              "      <td>NaN</td>\n",
              "      <td>102.02</td>\n",
              "      <td>80.06</td>\n",
              "      <td>0.0</td>\n",
              "      <td>NaN</td>\n",
              "    </tr>\n",
              "    <tr>\n",
              "      <th>1</th>\n",
              "      <td>1563350698175</td>\n",
              "      <td>CRTNTXXCOL6</td>\n",
              "      <td>2023</td>\n",
              "      <td>7</td>\n",
              "      <td>30</td>\n",
              "      <td>2023-07-30</td>\n",
              "      <td>1</td>\n",
              "      <td>1</td>\n",
              "      <td>14</td>\n",
              "      <td>2</td>\n",
              "      <td>...</td>\n",
              "      <td>0</td>\n",
              "      <td>NaN</td>\n",
              "      <td>0</td>\n",
              "      <td>3</td>\n",
              "      <td>NaN</td>\n",
              "      <td>NaN</td>\n",
              "      <td>102.02</td>\n",
              "      <td>80.06</td>\n",
              "      <td>0.0</td>\n",
              "      <td>NaN</td>\n",
              "    </tr>\n",
              "    <tr>\n",
              "      <th>2</th>\n",
              "      <td>1563348095607</td>\n",
              "      <td>CRTNTXXCOL6</td>\n",
              "      <td>2023</td>\n",
              "      <td>7</td>\n",
              "      <td>30</td>\n",
              "      <td>2023-07-30</td>\n",
              "      <td>1</td>\n",
              "      <td>1</td>\n",
              "      <td>18</td>\n",
              "      <td>2</td>\n",
              "      <td>...</td>\n",
              "      <td>0</td>\n",
              "      <td>NaN</td>\n",
              "      <td>0</td>\n",
              "      <td>3</td>\n",
              "      <td>NaN</td>\n",
              "      <td>NaN</td>\n",
              "      <td>102.02</td>\n",
              "      <td>80.06</td>\n",
              "      <td>0.0</td>\n",
              "      <td>NaN</td>\n",
              "    </tr>\n",
              "    <tr>\n",
              "      <th>3</th>\n",
              "      <td>1563344463954</td>\n",
              "      <td>CRTNTXXCOL6</td>\n",
              "      <td>2023</td>\n",
              "      <td>7</td>\n",
              "      <td>30</td>\n",
              "      <td>2023-07-30</td>\n",
              "      <td>1</td>\n",
              "      <td>1</td>\n",
              "      <td>13</td>\n",
              "      <td>2</td>\n",
              "      <td>...</td>\n",
              "      <td>0</td>\n",
              "      <td>NaN</td>\n",
              "      <td>0</td>\n",
              "      <td>3</td>\n",
              "      <td>NaN</td>\n",
              "      <td>NaN</td>\n",
              "      <td>102.02</td>\n",
              "      <td>80.06</td>\n",
              "      <td>0.0</td>\n",
              "      <td>NaN</td>\n",
              "    </tr>\n",
              "    <tr>\n",
              "      <th>4</th>\n",
              "      <td>1563350500609</td>\n",
              "      <td>CRTNTXXCOL6</td>\n",
              "      <td>2023</td>\n",
              "      <td>7</td>\n",
              "      <td>30</td>\n",
              "      <td>2023-07-30</td>\n",
              "      <td>1</td>\n",
              "      <td>1</td>\n",
              "      <td>13</td>\n",
              "      <td>4</td>\n",
              "      <td>...</td>\n",
              "      <td>0</td>\n",
              "      <td>NaN</td>\n",
              "      <td>0</td>\n",
              "      <td>3</td>\n",
              "      <td>NaN</td>\n",
              "      <td>NaN</td>\n",
              "      <td>102.02</td>\n",
              "      <td>80.06</td>\n",
              "      <td>0.0</td>\n",
              "      <td>NaN</td>\n",
              "    </tr>\n",
              "  </tbody>\n",
              "</table>\n",
              "<p>5 rows × 60 columns</p>\n",
              "</div>\n",
              "    <div class=\"colab-df-buttons\">\n",
              "\n",
              "  <div class=\"colab-df-container\">\n",
              "    <button class=\"colab-df-convert\" onclick=\"convertToInteractive('df-14591f97-085f-4455-ab12-4a65332fe3da')\"\n",
              "            title=\"Convert this dataframe to an interactive table.\"\n",
              "            style=\"display:none;\">\n",
              "\n",
              "  <svg xmlns=\"http://www.w3.org/2000/svg\" height=\"24px\" viewBox=\"0 -960 960 960\">\n",
              "    <path d=\"M120-120v-720h720v720H120Zm60-500h600v-160H180v160Zm220 220h160v-160H400v160Zm0 220h160v-160H400v160ZM180-400h160v-160H180v160Zm440 0h160v-160H620v160ZM180-180h160v-160H180v160Zm440 0h160v-160H620v160Z\"/>\n",
              "  </svg>\n",
              "    </button>\n",
              "\n",
              "  <style>\n",
              "    .colab-df-container {\n",
              "      display:flex;\n",
              "      gap: 12px;\n",
              "    }\n",
              "\n",
              "    .colab-df-convert {\n",
              "      background-color: #E8F0FE;\n",
              "      border: none;\n",
              "      border-radius: 50%;\n",
              "      cursor: pointer;\n",
              "      display: none;\n",
              "      fill: #1967D2;\n",
              "      height: 32px;\n",
              "      padding: 0 0 0 0;\n",
              "      width: 32px;\n",
              "    }\n",
              "\n",
              "    .colab-df-convert:hover {\n",
              "      background-color: #E2EBFA;\n",
              "      box-shadow: 0px 1px 2px rgba(60, 64, 67, 0.3), 0px 1px 3px 1px rgba(60, 64, 67, 0.15);\n",
              "      fill: #174EA6;\n",
              "    }\n",
              "\n",
              "    .colab-df-buttons div {\n",
              "      margin-bottom: 4px;\n",
              "    }\n",
              "\n",
              "    [theme=dark] .colab-df-convert {\n",
              "      background-color: #3B4455;\n",
              "      fill: #D2E3FC;\n",
              "    }\n",
              "\n",
              "    [theme=dark] .colab-df-convert:hover {\n",
              "      background-color: #434B5C;\n",
              "      box-shadow: 0px 1px 3px 1px rgba(0, 0, 0, 0.15);\n",
              "      filter: drop-shadow(0px 1px 2px rgba(0, 0, 0, 0.3));\n",
              "      fill: #FFFFFF;\n",
              "    }\n",
              "  </style>\n",
              "\n",
              "    <script>\n",
              "      const buttonEl =\n",
              "        document.querySelector('#df-14591f97-085f-4455-ab12-4a65332fe3da button.colab-df-convert');\n",
              "      buttonEl.style.display =\n",
              "        google.colab.kernel.accessAllowed ? 'block' : 'none';\n",
              "\n",
              "      async function convertToInteractive(key) {\n",
              "        const element = document.querySelector('#df-14591f97-085f-4455-ab12-4a65332fe3da');\n",
              "        const dataTable =\n",
              "          await google.colab.kernel.invokeFunction('convertToInteractive',\n",
              "                                                    [key], {});\n",
              "        if (!dataTable) return;\n",
              "\n",
              "        const docLinkHtml = 'Like what you see? Visit the ' +\n",
              "          '<a target=\"_blank\" href=https://colab.research.google.com/notebooks/data_table.ipynb>data table notebook</a>'\n",
              "          + ' to learn more about interactive tables.';\n",
              "        element.innerHTML = '';\n",
              "        dataTable['output_type'] = 'display_data';\n",
              "        await google.colab.output.renderOutput(dataTable, element);\n",
              "        const docLink = document.createElement('div');\n",
              "        docLink.innerHTML = docLinkHtml;\n",
              "        element.appendChild(docLink);\n",
              "      }\n",
              "    </script>\n",
              "  </div>\n",
              "\n",
              "\n",
              "<div id=\"df-7030b6c9-d740-44c5-8c19-6dd781966453\">\n",
              "  <button class=\"colab-df-quickchart\" onclick=\"quickchart('df-7030b6c9-d740-44c5-8c19-6dd781966453')\"\n",
              "            title=\"Suggest charts.\"\n",
              "            style=\"display:none;\">\n",
              "\n",
              "<svg xmlns=\"http://www.w3.org/2000/svg\" height=\"24px\"viewBox=\"0 0 24 24\"\n",
              "     width=\"24px\">\n",
              "    <g>\n",
              "        <path d=\"M19 3H5c-1.1 0-2 .9-2 2v14c0 1.1.9 2 2 2h14c1.1 0 2-.9 2-2V5c0-1.1-.9-2-2-2zM9 17H7v-7h2v7zm4 0h-2V7h2v10zm4 0h-2v-4h2v4z\"/>\n",
              "    </g>\n",
              "</svg>\n",
              "  </button>\n",
              "\n",
              "<style>\n",
              "  .colab-df-quickchart {\n",
              "      --bg-color: #E8F0FE;\n",
              "      --fill-color: #1967D2;\n",
              "      --hover-bg-color: #E2EBFA;\n",
              "      --hover-fill-color: #174EA6;\n",
              "      --disabled-fill-color: #AAA;\n",
              "      --disabled-bg-color: #DDD;\n",
              "  }\n",
              "\n",
              "  [theme=dark] .colab-df-quickchart {\n",
              "      --bg-color: #3B4455;\n",
              "      --fill-color: #D2E3FC;\n",
              "      --hover-bg-color: #434B5C;\n",
              "      --hover-fill-color: #FFFFFF;\n",
              "      --disabled-bg-color: #3B4455;\n",
              "      --disabled-fill-color: #666;\n",
              "  }\n",
              "\n",
              "  .colab-df-quickchart {\n",
              "    background-color: var(--bg-color);\n",
              "    border: none;\n",
              "    border-radius: 50%;\n",
              "    cursor: pointer;\n",
              "    display: none;\n",
              "    fill: var(--fill-color);\n",
              "    height: 32px;\n",
              "    padding: 0;\n",
              "    width: 32px;\n",
              "  }\n",
              "\n",
              "  .colab-df-quickchart:hover {\n",
              "    background-color: var(--hover-bg-color);\n",
              "    box-shadow: 0 1px 2px rgba(60, 64, 67, 0.3), 0 1px 3px 1px rgba(60, 64, 67, 0.15);\n",
              "    fill: var(--button-hover-fill-color);\n",
              "  }\n",
              "\n",
              "  .colab-df-quickchart-complete:disabled,\n",
              "  .colab-df-quickchart-complete:disabled:hover {\n",
              "    background-color: var(--disabled-bg-color);\n",
              "    fill: var(--disabled-fill-color);\n",
              "    box-shadow: none;\n",
              "  }\n",
              "\n",
              "  .colab-df-spinner {\n",
              "    border: 2px solid var(--fill-color);\n",
              "    border-color: transparent;\n",
              "    border-bottom-color: var(--fill-color);\n",
              "    animation:\n",
              "      spin 1s steps(1) infinite;\n",
              "  }\n",
              "\n",
              "  @keyframes spin {\n",
              "    0% {\n",
              "      border-color: transparent;\n",
              "      border-bottom-color: var(--fill-color);\n",
              "      border-left-color: var(--fill-color);\n",
              "    }\n",
              "    20% {\n",
              "      border-color: transparent;\n",
              "      border-left-color: var(--fill-color);\n",
              "      border-top-color: var(--fill-color);\n",
              "    }\n",
              "    30% {\n",
              "      border-color: transparent;\n",
              "      border-left-color: var(--fill-color);\n",
              "      border-top-color: var(--fill-color);\n",
              "      border-right-color: var(--fill-color);\n",
              "    }\n",
              "    40% {\n",
              "      border-color: transparent;\n",
              "      border-right-color: var(--fill-color);\n",
              "      border-top-color: var(--fill-color);\n",
              "    }\n",
              "    60% {\n",
              "      border-color: transparent;\n",
              "      border-right-color: var(--fill-color);\n",
              "    }\n",
              "    80% {\n",
              "      border-color: transparent;\n",
              "      border-right-color: var(--fill-color);\n",
              "      border-bottom-color: var(--fill-color);\n",
              "    }\n",
              "    90% {\n",
              "      border-color: transparent;\n",
              "      border-bottom-color: var(--fill-color);\n",
              "    }\n",
              "  }\n",
              "</style>\n",
              "\n",
              "  <script>\n",
              "    async function quickchart(key) {\n",
              "      const quickchartButtonEl =\n",
              "        document.querySelector('#' + key + ' button');\n",
              "      quickchartButtonEl.disabled = true;  // To prevent multiple clicks.\n",
              "      quickchartButtonEl.classList.add('colab-df-spinner');\n",
              "      try {\n",
              "        const charts = await google.colab.kernel.invokeFunction(\n",
              "            'suggestCharts', [key], {});\n",
              "      } catch (error) {\n",
              "        console.error('Error during call to suggestCharts:', error);\n",
              "      }\n",
              "      quickchartButtonEl.classList.remove('colab-df-spinner');\n",
              "      quickchartButtonEl.classList.add('colab-df-quickchart-complete');\n",
              "    }\n",
              "    (() => {\n",
              "      let quickchartButtonEl =\n",
              "        document.querySelector('#df-7030b6c9-d740-44c5-8c19-6dd781966453 button');\n",
              "      quickchartButtonEl.style.display =\n",
              "        google.colab.kernel.accessAllowed ? 'block' : 'none';\n",
              "    })();\n",
              "  </script>\n",
              "</div>\n",
              "    </div>\n",
              "  </div>\n"
            ]
          },
          "metadata": {},
          "execution_count": 163
        }
      ]
    },
    {
      "cell_type": "code",
      "source": [
        "print(f\"Training data shape {train.shape}\")\n",
        "print(f\"Testing data shape {test.shape}\")\n"
      ],
      "metadata": {
        "colab": {
          "base_uri": "https://localhost:8080/"
        },
        "id": "KUAmZp5hm96C",
        "outputId": "9701c0c2-160f-46e6-ae41-5e22c52d2b04"
      },
      "execution_count": 164,
      "outputs": [
        {
          "output_type": "stream",
          "name": "stdout",
          "text": [
            "Training data shape (63075, 60)\n",
            "Testing data shape (61149, 58)\n"
          ]
        }
      ]
    },
    {
      "cell_type": "code",
      "source": [
        "# printing all the columns.\n",
        "train.columns"
      ],
      "metadata": {
        "colab": {
          "base_uri": "https://localhost:8080/"
        },
        "id": "RzzIjO4IpJPn",
        "outputId": "545677c2-4a8f-4184-ae6c-d92b1f64c264"
      },
      "execution_count": 165,
      "outputs": [
        {
          "output_type": "execute_result",
          "data": {
            "text/plain": [
              "Index(['Customer', 'clli', 'year', 'month', 'day', 'date', 'rack', 'shelf',\n",
              "       'slot', 'port', 'ont', 'objectName', 'berDownstream', 'berUpstream',\n",
              "       'objectType', 'networkRxLevel', 'modelRxLevel', 'modemTxLevel',\n",
              "       'distance', 'opticalTemperature', 'opticalVoltage', 'modemType',\n",
              "       'status', 'ranged', 'laserBiasThreshold', 'laserBiasCurrent',\n",
              "       'videoAniAgcModePlanned', 'videoAniAgcSetting',\n",
              "       'videoAniOpInfoOpticalSignalLevel',\n",
              "       'videoAniOpInfoOpticalSignalLevelDbm', 'videoAniOpInfoRfPowerLevel',\n",
              "       'videoAniOperState', 'speedProfile', 'Stops_null', 'Stops_Admin-Reset',\n",
              "       'Stops_Idle-Timeout', 'Stops_Lost-Carrier', 'Stops_Lost-Service',\n",
              "       'Stops_NAS-Error', 'Stops_NAS-Request', 'Stops_Port-Error',\n",
              "       'Stops_Service-Unavailable', 'Stops_Session-Timeout',\n",
              "       'Stops_User-Error', 'Stops_User-Request', 'INTENT',\n",
              "       'CALLCOMPLETIONREASON', 'alarms', 'Alarm_SECS', 'Session_SECS',\n",
              "       'total_stops', 'TSO_calls_count', 'SA_TSO', 'score', 'REPORT_DATE',\n",
              "       'service_repair', 'TMAX', 'TMIN', 'PRCP', 'SNOW'],\n",
              "      dtype='object')"
            ]
          },
          "metadata": {},
          "execution_count": 165
        }
      ]
    },
    {
      "cell_type": "code",
      "source": [
        "test.columns"
      ],
      "metadata": {
        "colab": {
          "base_uri": "https://localhost:8080/"
        },
        "id": "8S4injLQnlj6",
        "outputId": "8b837e35-b6ac-4cbb-e892-b19a2da5b822"
      },
      "execution_count": 166,
      "outputs": [
        {
          "output_type": "execute_result",
          "data": {
            "text/plain": [
              "Index(['Customer', 'clli', 'year', 'month', 'day', 'date', 'rack', 'shelf',\n",
              "       'slot', 'port', 'ont', 'objectName', 'berDownstream', 'berUpstream',\n",
              "       'objectType', 'networkRxLevel', 'modelRxLevel', 'modemTxLevel',\n",
              "       'distance', 'opticalTemperature', 'opticalVoltage', 'modemType',\n",
              "       'status', 'ranged', 'laserBiasThreshold', 'laserBiasCurrent',\n",
              "       'videoAniAgcModePlanned', 'videoAniAgcSetting',\n",
              "       'videoAniOpInfoOpticalSignalLevel',\n",
              "       'videoAniOpInfoOpticalSignalLevelDbm', 'videoAniOpInfoRfPowerLevel',\n",
              "       'videoAniOperState', 'speedProfile', 'Stops_null', 'Stops_Admin-Reset',\n",
              "       'Stops_Idle-Timeout', 'Stops_Lost-Carrier', 'Stops_Lost-Service',\n",
              "       'Stops_NAS-Error', 'Stops_NAS-Request', 'Stops_Port-Error',\n",
              "       'Stops_Service-Unavailable', 'Stops_Session-Timeout',\n",
              "       'Stops_User-Error', 'Stops_User-Request', 'INTENT',\n",
              "       'CALLCOMPLETIONREASON', 'alarms', 'Alarm_SECS', 'Session_SECS',\n",
              "       'total_stops', 'TSO_calls_count', 'SA_TSO', 'score', 'TMAX', 'TMIN',\n",
              "       'PRCP', 'SNOW'],\n",
              "      dtype='object')"
            ]
          },
          "metadata": {},
          "execution_count": 166
        }
      ]
    },
    {
      "cell_type": "markdown",
      "source": [
        "## 'REPORT_DATE', 'service_repair' are the two columns that we need determine. If there is a service repair issued the current data will be the Reported date."
      ],
      "metadata": {
        "id": "munx8C1ipY3U"
      }
    },
    {
      "cell_type": "code",
      "source": [
        "test.isna().sum()"
      ],
      "metadata": {
        "colab": {
          "base_uri": "https://localhost:8080/"
        },
        "id": "j3MzRjoEwF0q",
        "outputId": "4e5d662d-19ff-41c8-c9d4-cccae8afcafe"
      },
      "execution_count": 167,
      "outputs": [
        {
          "output_type": "execute_result",
          "data": {
            "text/plain": [
              "Customer                                   0\n",
              "clli                                       0\n",
              "year                                       0\n",
              "month                                      0\n",
              "day                                        0\n",
              "date                                       0\n",
              "rack                                       0\n",
              "shelf                                      0\n",
              "slot                                       0\n",
              "port                                       0\n",
              "ont                                        0\n",
              "objectName                                 0\n",
              "berDownstream                          35498\n",
              "berUpstream                              838\n",
              "objectType                                 0\n",
              "networkRxLevel                         11077\n",
              "modelRxLevel                               0\n",
              "modemTxLevel                              50\n",
              "distance                                1229\n",
              "opticalTemperature                         0\n",
              "opticalVoltage                             0\n",
              "modemType                                910\n",
              "status                                   838\n",
              "ranged                                   838\n",
              "laserBiasThreshold                     35621\n",
              "laserBiasCurrent                       25528\n",
              "videoAniAgcModePlanned                 35621\n",
              "videoAniAgcSetting                     53896\n",
              "videoAniOpInfoOpticalSignalLevel       53896\n",
              "videoAniOpInfoOpticalSignalLevelDbm    53896\n",
              "videoAniOpInfoRfPowerLevel             53896\n",
              "videoAniOperState                      35621\n",
              "speedProfile                               0\n",
              "Stops_null                             61149\n",
              "Stops_Admin-Reset                      61026\n",
              "Stops_Idle-Timeout                     58637\n",
              "Stops_Lost-Carrier                     61146\n",
              "Stops_Lost-Service                     61021\n",
              "Stops_NAS-Error                        61149\n",
              "Stops_NAS-Request                      60515\n",
              "Stops_Port-Error                       61149\n",
              "Stops_Service-Unavailable              61149\n",
              "Stops_Session-Timeout                  60932\n",
              "Stops_User-Error                       61149\n",
              "Stops_User-Request                     60134\n",
              "INTENT                                 59931\n",
              "CALLCOMPLETIONREASON                   59944\n",
              "alarms                                     0\n",
              "Alarm_SECS                                 0\n",
              "Session_SECS                               0\n",
              "total_stops                                0\n",
              "TSO_calls_count                        59883\n",
              "SA_TSO                                     0\n",
              "score                                      0\n",
              "TMAX                                    2934\n",
              "TMIN                                    2893\n",
              "PRCP                                    2634\n",
              "SNOW                                   38957\n",
              "dtype: int64"
            ]
          },
          "metadata": {},
          "execution_count": 167
        }
      ]
    },
    {
      "cell_type": "code",
      "source": [
        "# Checking for Null values\n",
        "train.isna().sum()"
      ],
      "metadata": {
        "colab": {
          "base_uri": "https://localhost:8080/"
        },
        "id": "rDuTeTXvpF-b",
        "outputId": "e92f883a-d0e5-49ce-ebe5-933615e980cf"
      },
      "execution_count": 168,
      "outputs": [
        {
          "output_type": "execute_result",
          "data": {
            "text/plain": [
              "Customer                                   0\n",
              "clli                                       0\n",
              "year                                       0\n",
              "month                                      0\n",
              "day                                        0\n",
              "date                                       0\n",
              "rack                                       0\n",
              "shelf                                      0\n",
              "slot                                       0\n",
              "port                                       0\n",
              "ont                                        0\n",
              "objectName                                 0\n",
              "berDownstream                          35763\n",
              "berUpstream                                3\n",
              "objectType                                 0\n",
              "networkRxLevel                         10354\n",
              "modelRxLevel                               0\n",
              "modemTxLevel                             107\n",
              "distance                                 366\n",
              "opticalTemperature                         1\n",
              "opticalVoltage                             0\n",
              "modemType                                 87\n",
              "status                                     3\n",
              "ranged                                     3\n",
              "laserBiasThreshold                     36129\n",
              "laserBiasCurrent                       26946\n",
              "videoAniAgcModePlanned                 36129\n",
              "videoAniAgcSetting                     54903\n",
              "videoAniOpInfoOpticalSignalLevel       54903\n",
              "videoAniOpInfoOpticalSignalLevelDbm    54903\n",
              "videoAniOpInfoRfPowerLevel             54903\n",
              "videoAniOperState                      36129\n",
              "speedProfile                               0\n",
              "Stops_null                             63075\n",
              "Stops_Admin-Reset                      62963\n",
              "Stops_Idle-Timeout                     60425\n",
              "Stops_Lost-Carrier                     62963\n",
              "Stops_Lost-Service                     62931\n",
              "Stops_NAS-Error                        63075\n",
              "Stops_NAS-Request                      62579\n",
              "Stops_Port-Error                       63075\n",
              "Stops_Service-Unavailable              63075\n",
              "Stops_Session-Timeout                  62870\n",
              "Stops_User-Error                       63075\n",
              "Stops_User-Request                     62144\n",
              "INTENT                                 61715\n",
              "CALLCOMPLETIONREASON                   61722\n",
              "alarms                                     0\n",
              "Alarm_SECS                                 0\n",
              "Session_SECS                               0\n",
              "total_stops                                0\n",
              "TSO_calls_count                        61646\n",
              "SA_TSO                                     0\n",
              "score                                      0\n",
              "REPORT_DATE                            61691\n",
              "service_repair                         61691\n",
              "TMAX                                    1179\n",
              "TMIN                                    1094\n",
              "PRCP                                     565\n",
              "SNOW                                   38720\n",
              "dtype: int64"
            ]
          },
          "metadata": {},
          "execution_count": 168
        }
      ]
    },
    {
      "cell_type": "markdown",
      "source": [
        "# Preprocessing the data"
      ],
      "metadata": {
        "id": "-6FedvEstzZO"
      }
    },
    {
      "cell_type": "markdown",
      "source": [
        "### **Customer** - specific customer experiencing the network outage. Allows us to track down the issue based address and repair the nearby devices problems.\n",
        "- Not required in model training unless we are doing customer segmentation. This is useful when a service repair is found"
      ],
      "metadata": {
        "id": "pNNvZEA7uCsq"
      }
    },
    {
      "cell_type": "code",
      "source": [
        "train_data = train.drop('Customer', axis=1)"
      ],
      "metadata": {
        "id": "VqtlMCX9wdgo"
      },
      "execution_count": 169,
      "outputs": []
    },
    {
      "cell_type": "markdown",
      "source": [
        "### **clli** - Cili (Common Language Location Identifier) is the access layer identifier for the OLT (Optical Line Terminal) which helps in locating the specific OLT device responsible for serving the customer.\n",
        "- Not required in model training only required after a service repair is found."
      ],
      "metadata": {
        "id": "SizUmQB9u91l"
      }
    },
    {
      "cell_type": "code",
      "source": [
        "train_data = train_data.drop('clli', axis=1)"
      ],
      "metadata": {
        "id": "fKhYGvZiw5Xs"
      },
      "execution_count": 170,
      "outputs": []
    },
    {
      "cell_type": "markdown",
      "source": [
        "### **year, month, day, date** - These represent the date and time of the measurement. They help in tracking when the network outage occurred and provide a timeline when the service required occur.\n",
        "- The date time information doesn't provide much information regarding whether their should be a service on a particular day.\n",
        "- It has significance if we consider the time series analysis factor when there is several customer calls in a single day from different customer the chances of having a service request is high."
      ],
      "metadata": {
        "id": "2riC0VkJxFHn"
      }
    },
    {
      "cell_type": "code",
      "source": [
        "train_data = train_data.drop(['year', 'month', 'day', 'date'], axis=1)"
      ],
      "metadata": {
        "id": "3ayToSa43iil"
      },
      "execution_count": 171,
      "outputs": []
    },
    {
      "cell_type": "markdown",
      "source": [
        "### **rack, shelf, slot, port, ont** - These terms provide an exact location attributes of the customer's connection within the OLT infrastructure.\n",
        "- These are useful to pinpoint the exact location when a service repair is required, but it doesn't contribute to whether a service repair is required."
      ],
      "metadata": {
        "id": "8m35nHQ7T3Z5"
      }
    },
    {
      "cell_type": "code",
      "source": [
        "columns = ['rack', 'shelf', 'slot', 'port', 'ont']\n",
        "train_data = train_data.drop(columns, axis=1)"
      ],
      "metadata": {
        "id": "bGVIG6tdSA8u"
      },
      "execution_count": 172,
      "outputs": []
    },
    {
      "cell_type": "markdown",
      "source": [
        "### **objectName** - Customer's network identifier which can be used to associate the customer's network equipment and configuration.\n",
        "- It's primarily useful for identifying and resolving network outages once they have occurred, rather than predicting or preventing them from happening in the first place."
      ],
      "metadata": {
        "id": "WxXNMcDQwauF"
      }
    },
    {
      "cell_type": "code",
      "source": [
        "train_data = train_data.drop('objectName', axis=1)"
      ],
      "metadata": {
        "id": "SnvcPvCtHrVa"
      },
      "execution_count": 173,
      "outputs": []
    },
    {
      "cell_type": "markdown",
      "source": [
        "### **berDownstream, berUpstream** - Bit Error rate towards customer and towards network plays a major role in the signal quality.\n",
        "- BER measure of the number of bits that are received incorrectly compared to the total number of bits transmitted.\n",
        "- A high BER value indicates a higher rate of errors in the received data.\n",
        "- It is one of the important feature for the faultforecast Model.\n",
        "- **berDownstream** parameter, which measures the BER towards the customer is having direct impact on the customer's network experience. This is blank for many columns as many models doesn't support these values."
      ],
      "metadata": {
        "id": "ADK-IO2Ki-yl"
      }
    },
    {
      "cell_type": "code",
      "source": [
        "# Checking the NaN values in case of the berDownstream and berUpstream for the entire data.\n",
        "train_data[['berDownstream', 'berUpstream']].isna().sum()"
      ],
      "metadata": {
        "colab": {
          "base_uri": "https://localhost:8080/"
        },
        "id": "fjsj6cYwvsbG",
        "outputId": "2b6508f7-5da4-4340-d1f8-d85dfcf7364e"
      },
      "execution_count": 174,
      "outputs": [
        {
          "output_type": "execute_result",
          "data": {
            "text/plain": [
              "berDownstream    35763\n",
              "berUpstream          3\n",
              "dtype: int64"
            ]
          },
          "metadata": {},
          "execution_count": 174
        }
      ]
    },
    {
      "cell_type": "code",
      "source": [
        "# filtering out the data with a service repair to the correlation with the berDownstream and berUpstream\n",
        "filtered_data = train_data[train_data['service_repair'] == 1]\n",
        "print(f'The data that required service repair = {filtered_data.shape[0]}')"
      ],
      "metadata": {
        "colab": {
          "base_uri": "https://localhost:8080/"
        },
        "id": "Y7uggRYni-Je",
        "outputId": "31232c24-c6d7-43fb-fcc6-8c7c9b55ea62"
      },
      "execution_count": 175,
      "outputs": [
        {
          "output_type": "stream",
          "name": "stdout",
          "text": [
            "The data that required service repair = 1384\n"
          ]
        }
      ]
    },
    {
      "cell_type": "code",
      "source": [
        "# Checking the NaN values for berDownstream and berUpstream in case of data when service repair is required.\n",
        "filtered_data[['berDownstream', 'berUpstream']].isna().sum()"
      ],
      "metadata": {
        "colab": {
          "base_uri": "https://localhost:8080/"
        },
        "id": "07nJzdCMvnGO",
        "outputId": "f39466d6-b297-4c8e-b3c4-807e07258896"
      },
      "execution_count": 176,
      "outputs": [
        {
          "output_type": "execute_result",
          "data": {
            "text/plain": [
              "berDownstream    768\n",
              "berUpstream        0\n",
              "dtype: int64"
            ]
          },
          "metadata": {},
          "execution_count": 176
        }
      ]
    },
    {
      "cell_type": "code",
      "source": [
        "filtered_data['berUpstream'][filtered_data['berUpstream'] >= 100]"
      ],
      "metadata": {
        "colab": {
          "base_uri": "https://localhost:8080/"
        },
        "id": "mlFTxoSC9CdH",
        "outputId": "6b0f3747-9744-4bf9-9749-24e82c552b97"
      },
      "execution_count": 177,
      "outputs": [
        {
          "output_type": "execute_result",
          "data": {
            "text/plain": [
              "195         306.0\n",
              "285      990870.0\n",
              "378       14963.0\n",
              "481       17709.0\n",
              "559       16250.0\n",
              "           ...   \n",
              "62147     24072.0\n",
              "62341       107.0\n",
              "62484       617.0\n",
              "62507       214.0\n",
              "63058       283.0\n",
              "Name: berUpstream, Length: 371, dtype: float64"
            ]
          },
          "metadata": {},
          "execution_count": 177
        }
      ]
    },
    {
      "cell_type": "code",
      "source": [
        "filtered_data['berDownstream'].value_counts()"
      ],
      "metadata": {
        "colab": {
          "base_uri": "https://localhost:8080/"
        },
        "id": "oHASu_et3B7c",
        "outputId": "e6b43a52-6df1-4be7-e8ab-317ec5a3445c"
      },
      "execution_count": 178,
      "outputs": [
        {
          "output_type": "execute_result",
          "data": {
            "text/plain": [
              "0.0     511\n",
              "4.0      10\n",
              "6.0       6\n",
              "8.0       6\n",
              "2.0       4\n",
              "       ... \n",
              "30.0      1\n",
              "48.0      1\n",
              "66.0      1\n",
              "38.0      1\n",
              "81.0      1\n",
              "Name: berDownstream, Length: 61, dtype: int64"
            ]
          },
          "metadata": {},
          "execution_count": 178
        }
      ]
    },
    {
      "cell_type": "code",
      "source": [
        "# Checking the values of berUpstream when the berDownstream is 0.0\n",
        "filtered = filtered_data[filtered_data['berDownstream']==0.0]\n",
        "filtered[['berDownstream', 'berUpstream']].head(5)"
      ],
      "metadata": {
        "colab": {
          "base_uri": "https://localhost:8080/",
          "height": 206
        },
        "id": "2OHOgT964vsk",
        "outputId": "fbb214ae-4f0b-48de-cb0d-e479c0f0c0db"
      },
      "execution_count": 179,
      "outputs": [
        {
          "output_type": "execute_result",
          "data": {
            "text/plain": [
              "     berDownstream  berUpstream\n",
              "123            0.0         37.0\n",
              "182            0.0         59.0\n",
              "285            0.0     990870.0\n",
              "378            0.0      14963.0\n",
              "481            0.0      17709.0"
            ],
            "text/html": [
              "\n",
              "  <div id=\"df-20dbf4a8-efb0-49fb-8089-8df31ed66650\" class=\"colab-df-container\">\n",
              "    <div>\n",
              "<style scoped>\n",
              "    .dataframe tbody tr th:only-of-type {\n",
              "        vertical-align: middle;\n",
              "    }\n",
              "\n",
              "    .dataframe tbody tr th {\n",
              "        vertical-align: top;\n",
              "    }\n",
              "\n",
              "    .dataframe thead th {\n",
              "        text-align: right;\n",
              "    }\n",
              "</style>\n",
              "<table border=\"1\" class=\"dataframe\">\n",
              "  <thead>\n",
              "    <tr style=\"text-align: right;\">\n",
              "      <th></th>\n",
              "      <th>berDownstream</th>\n",
              "      <th>berUpstream</th>\n",
              "    </tr>\n",
              "  </thead>\n",
              "  <tbody>\n",
              "    <tr>\n",
              "      <th>123</th>\n",
              "      <td>0.0</td>\n",
              "      <td>37.0</td>\n",
              "    </tr>\n",
              "    <tr>\n",
              "      <th>182</th>\n",
              "      <td>0.0</td>\n",
              "      <td>59.0</td>\n",
              "    </tr>\n",
              "    <tr>\n",
              "      <th>285</th>\n",
              "      <td>0.0</td>\n",
              "      <td>990870.0</td>\n",
              "    </tr>\n",
              "    <tr>\n",
              "      <th>378</th>\n",
              "      <td>0.0</td>\n",
              "      <td>14963.0</td>\n",
              "    </tr>\n",
              "    <tr>\n",
              "      <th>481</th>\n",
              "      <td>0.0</td>\n",
              "      <td>17709.0</td>\n",
              "    </tr>\n",
              "  </tbody>\n",
              "</table>\n",
              "</div>\n",
              "    <div class=\"colab-df-buttons\">\n",
              "\n",
              "  <div class=\"colab-df-container\">\n",
              "    <button class=\"colab-df-convert\" onclick=\"convertToInteractive('df-20dbf4a8-efb0-49fb-8089-8df31ed66650')\"\n",
              "            title=\"Convert this dataframe to an interactive table.\"\n",
              "            style=\"display:none;\">\n",
              "\n",
              "  <svg xmlns=\"http://www.w3.org/2000/svg\" height=\"24px\" viewBox=\"0 -960 960 960\">\n",
              "    <path d=\"M120-120v-720h720v720H120Zm60-500h600v-160H180v160Zm220 220h160v-160H400v160Zm0 220h160v-160H400v160ZM180-400h160v-160H180v160Zm440 0h160v-160H620v160ZM180-180h160v-160H180v160Zm440 0h160v-160H620v160Z\"/>\n",
              "  </svg>\n",
              "    </button>\n",
              "\n",
              "  <style>\n",
              "    .colab-df-container {\n",
              "      display:flex;\n",
              "      gap: 12px;\n",
              "    }\n",
              "\n",
              "    .colab-df-convert {\n",
              "      background-color: #E8F0FE;\n",
              "      border: none;\n",
              "      border-radius: 50%;\n",
              "      cursor: pointer;\n",
              "      display: none;\n",
              "      fill: #1967D2;\n",
              "      height: 32px;\n",
              "      padding: 0 0 0 0;\n",
              "      width: 32px;\n",
              "    }\n",
              "\n",
              "    .colab-df-convert:hover {\n",
              "      background-color: #E2EBFA;\n",
              "      box-shadow: 0px 1px 2px rgba(60, 64, 67, 0.3), 0px 1px 3px 1px rgba(60, 64, 67, 0.15);\n",
              "      fill: #174EA6;\n",
              "    }\n",
              "\n",
              "    .colab-df-buttons div {\n",
              "      margin-bottom: 4px;\n",
              "    }\n",
              "\n",
              "    [theme=dark] .colab-df-convert {\n",
              "      background-color: #3B4455;\n",
              "      fill: #D2E3FC;\n",
              "    }\n",
              "\n",
              "    [theme=dark] .colab-df-convert:hover {\n",
              "      background-color: #434B5C;\n",
              "      box-shadow: 0px 1px 3px 1px rgba(0, 0, 0, 0.15);\n",
              "      filter: drop-shadow(0px 1px 2px rgba(0, 0, 0, 0.3));\n",
              "      fill: #FFFFFF;\n",
              "    }\n",
              "  </style>\n",
              "\n",
              "    <script>\n",
              "      const buttonEl =\n",
              "        document.querySelector('#df-20dbf4a8-efb0-49fb-8089-8df31ed66650 button.colab-df-convert');\n",
              "      buttonEl.style.display =\n",
              "        google.colab.kernel.accessAllowed ? 'block' : 'none';\n",
              "\n",
              "      async function convertToInteractive(key) {\n",
              "        const element = document.querySelector('#df-20dbf4a8-efb0-49fb-8089-8df31ed66650');\n",
              "        const dataTable =\n",
              "          await google.colab.kernel.invokeFunction('convertToInteractive',\n",
              "                                                    [key], {});\n",
              "        if (!dataTable) return;\n",
              "\n",
              "        const docLinkHtml = 'Like what you see? Visit the ' +\n",
              "          '<a target=\"_blank\" href=https://colab.research.google.com/notebooks/data_table.ipynb>data table notebook</a>'\n",
              "          + ' to learn more about interactive tables.';\n",
              "        element.innerHTML = '';\n",
              "        dataTable['output_type'] = 'display_data';\n",
              "        await google.colab.output.renderOutput(dataTable, element);\n",
              "        const docLink = document.createElement('div');\n",
              "        docLink.innerHTML = docLinkHtml;\n",
              "        element.appendChild(docLink);\n",
              "      }\n",
              "    </script>\n",
              "  </div>\n",
              "\n",
              "\n",
              "<div id=\"df-f071b56d-29dd-46ad-8855-579818fd0d02\">\n",
              "  <button class=\"colab-df-quickchart\" onclick=\"quickchart('df-f071b56d-29dd-46ad-8855-579818fd0d02')\"\n",
              "            title=\"Suggest charts.\"\n",
              "            style=\"display:none;\">\n",
              "\n",
              "<svg xmlns=\"http://www.w3.org/2000/svg\" height=\"24px\"viewBox=\"0 0 24 24\"\n",
              "     width=\"24px\">\n",
              "    <g>\n",
              "        <path d=\"M19 3H5c-1.1 0-2 .9-2 2v14c0 1.1.9 2 2 2h14c1.1 0 2-.9 2-2V5c0-1.1-.9-2-2-2zM9 17H7v-7h2v7zm4 0h-2V7h2v10zm4 0h-2v-4h2v4z\"/>\n",
              "    </g>\n",
              "</svg>\n",
              "  </button>\n",
              "\n",
              "<style>\n",
              "  .colab-df-quickchart {\n",
              "      --bg-color: #E8F0FE;\n",
              "      --fill-color: #1967D2;\n",
              "      --hover-bg-color: #E2EBFA;\n",
              "      --hover-fill-color: #174EA6;\n",
              "      --disabled-fill-color: #AAA;\n",
              "      --disabled-bg-color: #DDD;\n",
              "  }\n",
              "\n",
              "  [theme=dark] .colab-df-quickchart {\n",
              "      --bg-color: #3B4455;\n",
              "      --fill-color: #D2E3FC;\n",
              "      --hover-bg-color: #434B5C;\n",
              "      --hover-fill-color: #FFFFFF;\n",
              "      --disabled-bg-color: #3B4455;\n",
              "      --disabled-fill-color: #666;\n",
              "  }\n",
              "\n",
              "  .colab-df-quickchart {\n",
              "    background-color: var(--bg-color);\n",
              "    border: none;\n",
              "    border-radius: 50%;\n",
              "    cursor: pointer;\n",
              "    display: none;\n",
              "    fill: var(--fill-color);\n",
              "    height: 32px;\n",
              "    padding: 0;\n",
              "    width: 32px;\n",
              "  }\n",
              "\n",
              "  .colab-df-quickchart:hover {\n",
              "    background-color: var(--hover-bg-color);\n",
              "    box-shadow: 0 1px 2px rgba(60, 64, 67, 0.3), 0 1px 3px 1px rgba(60, 64, 67, 0.15);\n",
              "    fill: var(--button-hover-fill-color);\n",
              "  }\n",
              "\n",
              "  .colab-df-quickchart-complete:disabled,\n",
              "  .colab-df-quickchart-complete:disabled:hover {\n",
              "    background-color: var(--disabled-bg-color);\n",
              "    fill: var(--disabled-fill-color);\n",
              "    box-shadow: none;\n",
              "  }\n",
              "\n",
              "  .colab-df-spinner {\n",
              "    border: 2px solid var(--fill-color);\n",
              "    border-color: transparent;\n",
              "    border-bottom-color: var(--fill-color);\n",
              "    animation:\n",
              "      spin 1s steps(1) infinite;\n",
              "  }\n",
              "\n",
              "  @keyframes spin {\n",
              "    0% {\n",
              "      border-color: transparent;\n",
              "      border-bottom-color: var(--fill-color);\n",
              "      border-left-color: var(--fill-color);\n",
              "    }\n",
              "    20% {\n",
              "      border-color: transparent;\n",
              "      border-left-color: var(--fill-color);\n",
              "      border-top-color: var(--fill-color);\n",
              "    }\n",
              "    30% {\n",
              "      border-color: transparent;\n",
              "      border-left-color: var(--fill-color);\n",
              "      border-top-color: var(--fill-color);\n",
              "      border-right-color: var(--fill-color);\n",
              "    }\n",
              "    40% {\n",
              "      border-color: transparent;\n",
              "      border-right-color: var(--fill-color);\n",
              "      border-top-color: var(--fill-color);\n",
              "    }\n",
              "    60% {\n",
              "      border-color: transparent;\n",
              "      border-right-color: var(--fill-color);\n",
              "    }\n",
              "    80% {\n",
              "      border-color: transparent;\n",
              "      border-right-color: var(--fill-color);\n",
              "      border-bottom-color: var(--fill-color);\n",
              "    }\n",
              "    90% {\n",
              "      border-color: transparent;\n",
              "      border-bottom-color: var(--fill-color);\n",
              "    }\n",
              "  }\n",
              "</style>\n",
              "\n",
              "  <script>\n",
              "    async function quickchart(key) {\n",
              "      const quickchartButtonEl =\n",
              "        document.querySelector('#' + key + ' button');\n",
              "      quickchartButtonEl.disabled = true;  // To prevent multiple clicks.\n",
              "      quickchartButtonEl.classList.add('colab-df-spinner');\n",
              "      try {\n",
              "        const charts = await google.colab.kernel.invokeFunction(\n",
              "            'suggestCharts', [key], {});\n",
              "      } catch (error) {\n",
              "        console.error('Error during call to suggestCharts:', error);\n",
              "      }\n",
              "      quickchartButtonEl.classList.remove('colab-df-spinner');\n",
              "      quickchartButtonEl.classList.add('colab-df-quickchart-complete');\n",
              "    }\n",
              "    (() => {\n",
              "      let quickchartButtonEl =\n",
              "        document.querySelector('#df-f071b56d-29dd-46ad-8855-579818fd0d02 button');\n",
              "      quickchartButtonEl.style.display =\n",
              "        google.colab.kernel.accessAllowed ? 'block' : 'none';\n",
              "    })();\n",
              "  </script>\n",
              "</div>\n",
              "    </div>\n",
              "  </div>\n"
            ]
          },
          "metadata": {},
          "execution_count": 179
        }
      ]
    },
    {
      "cell_type": "markdown",
      "source": [
        "- Majority of the values in the berDownstream are less than 10 and null values where the service repair is required while the upstream values for the same are very high. Thus in this case **berUpstream** contribute more towards the network outage.\n",
        "- We can either remove **berDownstream** or replace **berDownstream** NaN values with -1."
      ],
      "metadata": {
        "id": "x3g1hlKH3Quz"
      }
    },
    {
      "cell_type": "code",
      "source": [
        "train_data[['berDownstream', 'berUpstream']] = train_data[['berDownstream', 'berUpstream']].fillna(-1)\n"
      ],
      "metadata": {
        "id": "AdhdnY-Bx74h"
      },
      "execution_count": 180,
      "outputs": []
    },
    {
      "cell_type": "markdown",
      "source": [
        "- snow = 0 when precipitation is equal to zero. snow is a kind of precipitation when the temperature is around o degree C.\n",
        "- Report date trend when the service repair was there. Did the reports reduced in the flow. The time between the each report date.\n"
      ],
      "metadata": {
        "id": "krPDUVvqc62k"
      }
    },
    {
      "cell_type": "markdown",
      "source": [
        "### **objectType** field with the value \"ONT\" indicates that all the columns in the dataset are specific to the Optical Network Terminal (ONT).\n",
        "- All the values of objectType is of the same value so there is no significance in adding to the model as a feature to be considered."
      ],
      "metadata": {
        "id": "jYxZQgrvEPvc"
      }
    },
    {
      "cell_type": "code",
      "source": [
        "train_data['objectType'].value_counts()"
      ],
      "metadata": {
        "colab": {
          "base_uri": "https://localhost:8080/"
        },
        "id": "yqLmg613AhcJ",
        "outputId": "159c0fa0-473b-4c33-ac45-2acffccc3a2a"
      },
      "execution_count": 181,
      "outputs": [
        {
          "output_type": "execute_result",
          "data": {
            "text/plain": [
              "ONT    63075\n",
              "Name: objectType, dtype: int64"
            ]
          },
          "metadata": {},
          "execution_count": 181
        }
      ]
    },
    {
      "cell_type": "code",
      "source": [
        "train_data = train_data.drop('objectType', axis=1)"
      ],
      "metadata": {
        "id": "iiBBhakwEhrJ"
      },
      "execution_count": 182,
      "outputs": []
    },
    {
      "cell_type": "markdown",
      "source": [
        "### **REPORT_DATE, service_repair** - these are the fields that needs to be predicted. The Report date occur when the service_repair is initiated.\n",
        "- We don't need **REPORT_DATE** in the data for the model training to predict service repair since report date is something that happens after the service is initiated.\n",
        "- The **service_repair** Null values should be replaced with 0."
      ],
      "metadata": {
        "id": "Mm69fVNtH5cQ"
      }
    },
    {
      "cell_type": "code",
      "source": [
        "train_data = train_data.drop('REPORT_DATE', axis=1)\n",
        "train_data['service_repair'] = train_data['service_repair'].fillna(0)"
      ],
      "metadata": {
        "id": "uh3QODkmJeKe"
      },
      "execution_count": 183,
      "outputs": []
    },
    {
      "cell_type": "markdown",
      "source": [
        "### **networkRxLevel, modelRxLevel, modemTxLevel** - These fields represent the received signal strength at different points in the network, such as the OLT and ONT. Significant variations in signal strength can indicate potential network issues affecting the customer's connection.\n",
        "- We cannot replace the NaN values with anything instead be considered as a different catergory that is unknown to us."
      ],
      "metadata": {
        "id": "Y9FzAN97E6ao"
      }
    },
    {
      "cell_type": "code",
      "source": [
        "train_data[['networkRxLevel', 'modelRxLevel', 'modemTxLevel']].head(5)"
      ],
      "metadata": {
        "colab": {
          "base_uri": "https://localhost:8080/",
          "height": 206
        },
        "id": "oWfjREwSaJfU",
        "outputId": "994c4c42-5092-43ec-e450-ab6e36a0c109"
      },
      "execution_count": 184,
      "outputs": [
        {
          "output_type": "execute_result",
          "data": {
            "text/plain": [
              "   networkRxLevel  modelRxLevel  modemTxLevel\n",
              "0             NaN       -18.266       -30.000\n",
              "1             NaN       -18.856         2.020\n",
              "2             NaN       -19.908         2.554\n",
              "3             NaN       -18.690         2.054\n",
              "4             NaN       -19.504         2.030"
            ],
            "text/html": [
              "\n",
              "  <div id=\"df-66b26ccb-9c0c-4ae2-ad7e-e7fb3820448c\" class=\"colab-df-container\">\n",
              "    <div>\n",
              "<style scoped>\n",
              "    .dataframe tbody tr th:only-of-type {\n",
              "        vertical-align: middle;\n",
              "    }\n",
              "\n",
              "    .dataframe tbody tr th {\n",
              "        vertical-align: top;\n",
              "    }\n",
              "\n",
              "    .dataframe thead th {\n",
              "        text-align: right;\n",
              "    }\n",
              "</style>\n",
              "<table border=\"1\" class=\"dataframe\">\n",
              "  <thead>\n",
              "    <tr style=\"text-align: right;\">\n",
              "      <th></th>\n",
              "      <th>networkRxLevel</th>\n",
              "      <th>modelRxLevel</th>\n",
              "      <th>modemTxLevel</th>\n",
              "    </tr>\n",
              "  </thead>\n",
              "  <tbody>\n",
              "    <tr>\n",
              "      <th>0</th>\n",
              "      <td>NaN</td>\n",
              "      <td>-18.266</td>\n",
              "      <td>-30.000</td>\n",
              "    </tr>\n",
              "    <tr>\n",
              "      <th>1</th>\n",
              "      <td>NaN</td>\n",
              "      <td>-18.856</td>\n",
              "      <td>2.020</td>\n",
              "    </tr>\n",
              "    <tr>\n",
              "      <th>2</th>\n",
              "      <td>NaN</td>\n",
              "      <td>-19.908</td>\n",
              "      <td>2.554</td>\n",
              "    </tr>\n",
              "    <tr>\n",
              "      <th>3</th>\n",
              "      <td>NaN</td>\n",
              "      <td>-18.690</td>\n",
              "      <td>2.054</td>\n",
              "    </tr>\n",
              "    <tr>\n",
              "      <th>4</th>\n",
              "      <td>NaN</td>\n",
              "      <td>-19.504</td>\n",
              "      <td>2.030</td>\n",
              "    </tr>\n",
              "  </tbody>\n",
              "</table>\n",
              "</div>\n",
              "    <div class=\"colab-df-buttons\">\n",
              "\n",
              "  <div class=\"colab-df-container\">\n",
              "    <button class=\"colab-df-convert\" onclick=\"convertToInteractive('df-66b26ccb-9c0c-4ae2-ad7e-e7fb3820448c')\"\n",
              "            title=\"Convert this dataframe to an interactive table.\"\n",
              "            style=\"display:none;\">\n",
              "\n",
              "  <svg xmlns=\"http://www.w3.org/2000/svg\" height=\"24px\" viewBox=\"0 -960 960 960\">\n",
              "    <path d=\"M120-120v-720h720v720H120Zm60-500h600v-160H180v160Zm220 220h160v-160H400v160Zm0 220h160v-160H400v160ZM180-400h160v-160H180v160Zm440 0h160v-160H620v160ZM180-180h160v-160H180v160Zm440 0h160v-160H620v160Z\"/>\n",
              "  </svg>\n",
              "    </button>\n",
              "\n",
              "  <style>\n",
              "    .colab-df-container {\n",
              "      display:flex;\n",
              "      gap: 12px;\n",
              "    }\n",
              "\n",
              "    .colab-df-convert {\n",
              "      background-color: #E8F0FE;\n",
              "      border: none;\n",
              "      border-radius: 50%;\n",
              "      cursor: pointer;\n",
              "      display: none;\n",
              "      fill: #1967D2;\n",
              "      height: 32px;\n",
              "      padding: 0 0 0 0;\n",
              "      width: 32px;\n",
              "    }\n",
              "\n",
              "    .colab-df-convert:hover {\n",
              "      background-color: #E2EBFA;\n",
              "      box-shadow: 0px 1px 2px rgba(60, 64, 67, 0.3), 0px 1px 3px 1px rgba(60, 64, 67, 0.15);\n",
              "      fill: #174EA6;\n",
              "    }\n",
              "\n",
              "    .colab-df-buttons div {\n",
              "      margin-bottom: 4px;\n",
              "    }\n",
              "\n",
              "    [theme=dark] .colab-df-convert {\n",
              "      background-color: #3B4455;\n",
              "      fill: #D2E3FC;\n",
              "    }\n",
              "\n",
              "    [theme=dark] .colab-df-convert:hover {\n",
              "      background-color: #434B5C;\n",
              "      box-shadow: 0px 1px 3px 1px rgba(0, 0, 0, 0.15);\n",
              "      filter: drop-shadow(0px 1px 2px rgba(0, 0, 0, 0.3));\n",
              "      fill: #FFFFFF;\n",
              "    }\n",
              "  </style>\n",
              "\n",
              "    <script>\n",
              "      const buttonEl =\n",
              "        document.querySelector('#df-66b26ccb-9c0c-4ae2-ad7e-e7fb3820448c button.colab-df-convert');\n",
              "      buttonEl.style.display =\n",
              "        google.colab.kernel.accessAllowed ? 'block' : 'none';\n",
              "\n",
              "      async function convertToInteractive(key) {\n",
              "        const element = document.querySelector('#df-66b26ccb-9c0c-4ae2-ad7e-e7fb3820448c');\n",
              "        const dataTable =\n",
              "          await google.colab.kernel.invokeFunction('convertToInteractive',\n",
              "                                                    [key], {});\n",
              "        if (!dataTable) return;\n",
              "\n",
              "        const docLinkHtml = 'Like what you see? Visit the ' +\n",
              "          '<a target=\"_blank\" href=https://colab.research.google.com/notebooks/data_table.ipynb>data table notebook</a>'\n",
              "          + ' to learn more about interactive tables.';\n",
              "        element.innerHTML = '';\n",
              "        dataTable['output_type'] = 'display_data';\n",
              "        await google.colab.output.renderOutput(dataTable, element);\n",
              "        const docLink = document.createElement('div');\n",
              "        docLink.innerHTML = docLinkHtml;\n",
              "        element.appendChild(docLink);\n",
              "      }\n",
              "    </script>\n",
              "  </div>\n",
              "\n",
              "\n",
              "<div id=\"df-c87073ee-fa62-4aad-9a25-657aa6822bdb\">\n",
              "  <button class=\"colab-df-quickchart\" onclick=\"quickchart('df-c87073ee-fa62-4aad-9a25-657aa6822bdb')\"\n",
              "            title=\"Suggest charts.\"\n",
              "            style=\"display:none;\">\n",
              "\n",
              "<svg xmlns=\"http://www.w3.org/2000/svg\" height=\"24px\"viewBox=\"0 0 24 24\"\n",
              "     width=\"24px\">\n",
              "    <g>\n",
              "        <path d=\"M19 3H5c-1.1 0-2 .9-2 2v14c0 1.1.9 2 2 2h14c1.1 0 2-.9 2-2V5c0-1.1-.9-2-2-2zM9 17H7v-7h2v7zm4 0h-2V7h2v10zm4 0h-2v-4h2v4z\"/>\n",
              "    </g>\n",
              "</svg>\n",
              "  </button>\n",
              "\n",
              "<style>\n",
              "  .colab-df-quickchart {\n",
              "      --bg-color: #E8F0FE;\n",
              "      --fill-color: #1967D2;\n",
              "      --hover-bg-color: #E2EBFA;\n",
              "      --hover-fill-color: #174EA6;\n",
              "      --disabled-fill-color: #AAA;\n",
              "      --disabled-bg-color: #DDD;\n",
              "  }\n",
              "\n",
              "  [theme=dark] .colab-df-quickchart {\n",
              "      --bg-color: #3B4455;\n",
              "      --fill-color: #D2E3FC;\n",
              "      --hover-bg-color: #434B5C;\n",
              "      --hover-fill-color: #FFFFFF;\n",
              "      --disabled-bg-color: #3B4455;\n",
              "      --disabled-fill-color: #666;\n",
              "  }\n",
              "\n",
              "  .colab-df-quickchart {\n",
              "    background-color: var(--bg-color);\n",
              "    border: none;\n",
              "    border-radius: 50%;\n",
              "    cursor: pointer;\n",
              "    display: none;\n",
              "    fill: var(--fill-color);\n",
              "    height: 32px;\n",
              "    padding: 0;\n",
              "    width: 32px;\n",
              "  }\n",
              "\n",
              "  .colab-df-quickchart:hover {\n",
              "    background-color: var(--hover-bg-color);\n",
              "    box-shadow: 0 1px 2px rgba(60, 64, 67, 0.3), 0 1px 3px 1px rgba(60, 64, 67, 0.15);\n",
              "    fill: var(--button-hover-fill-color);\n",
              "  }\n",
              "\n",
              "  .colab-df-quickchart-complete:disabled,\n",
              "  .colab-df-quickchart-complete:disabled:hover {\n",
              "    background-color: var(--disabled-bg-color);\n",
              "    fill: var(--disabled-fill-color);\n",
              "    box-shadow: none;\n",
              "  }\n",
              "\n",
              "  .colab-df-spinner {\n",
              "    border: 2px solid var(--fill-color);\n",
              "    border-color: transparent;\n",
              "    border-bottom-color: var(--fill-color);\n",
              "    animation:\n",
              "      spin 1s steps(1) infinite;\n",
              "  }\n",
              "\n",
              "  @keyframes spin {\n",
              "    0% {\n",
              "      border-color: transparent;\n",
              "      border-bottom-color: var(--fill-color);\n",
              "      border-left-color: var(--fill-color);\n",
              "    }\n",
              "    20% {\n",
              "      border-color: transparent;\n",
              "      border-left-color: var(--fill-color);\n",
              "      border-top-color: var(--fill-color);\n",
              "    }\n",
              "    30% {\n",
              "      border-color: transparent;\n",
              "      border-left-color: var(--fill-color);\n",
              "      border-top-color: var(--fill-color);\n",
              "      border-right-color: var(--fill-color);\n",
              "    }\n",
              "    40% {\n",
              "      border-color: transparent;\n",
              "      border-right-color: var(--fill-color);\n",
              "      border-top-color: var(--fill-color);\n",
              "    }\n",
              "    60% {\n",
              "      border-color: transparent;\n",
              "      border-right-color: var(--fill-color);\n",
              "    }\n",
              "    80% {\n",
              "      border-color: transparent;\n",
              "      border-right-color: var(--fill-color);\n",
              "      border-bottom-color: var(--fill-color);\n",
              "    }\n",
              "    90% {\n",
              "      border-color: transparent;\n",
              "      border-bottom-color: var(--fill-color);\n",
              "    }\n",
              "  }\n",
              "</style>\n",
              "\n",
              "  <script>\n",
              "    async function quickchart(key) {\n",
              "      const quickchartButtonEl =\n",
              "        document.querySelector('#' + key + ' button');\n",
              "      quickchartButtonEl.disabled = true;  // To prevent multiple clicks.\n",
              "      quickchartButtonEl.classList.add('colab-df-spinner');\n",
              "      try {\n",
              "        const charts = await google.colab.kernel.invokeFunction(\n",
              "            'suggestCharts', [key], {});\n",
              "      } catch (error) {\n",
              "        console.error('Error during call to suggestCharts:', error);\n",
              "      }\n",
              "      quickchartButtonEl.classList.remove('colab-df-spinner');\n",
              "      quickchartButtonEl.classList.add('colab-df-quickchart-complete');\n",
              "    }\n",
              "    (() => {\n",
              "      let quickchartButtonEl =\n",
              "        document.querySelector('#df-c87073ee-fa62-4aad-9a25-657aa6822bdb button');\n",
              "      quickchartButtonEl.style.display =\n",
              "        google.colab.kernel.accessAllowed ? 'block' : 'none';\n",
              "    })();\n",
              "  </script>\n",
              "</div>\n",
              "    </div>\n",
              "  </div>\n"
            ]
          },
          "metadata": {},
          "execution_count": 184
        }
      ]
    },
    {
      "cell_type": "code",
      "source": [
        "train_data[['networkRxLevel', 'modelRxLevel', 'modemTxLevel']].isna().sum()"
      ],
      "metadata": {
        "colab": {
          "base_uri": "https://localhost:8080/"
        },
        "id": "Q1iYegnNFmza",
        "outputId": "19df87f4-2a83-4beb-e0e9-8a54a754cf2b"
      },
      "execution_count": 185,
      "outputs": [
        {
          "output_type": "execute_result",
          "data": {
            "text/plain": [
              "networkRxLevel    10354\n",
              "modelRxLevel          0\n",
              "modemTxLevel        107\n",
              "dtype: int64"
            ]
          },
          "metadata": {},
          "execution_count": 185
        }
      ]
    },
    {
      "cell_type": "code",
      "source": [
        "nan_data = train_data[train_data['networkRxLevel'].isna()]\n",
        "nan_data['service_repair'].value_counts()"
      ],
      "metadata": {
        "colab": {
          "base_uri": "https://localhost:8080/"
        },
        "id": "_QG8QYjXGyz_",
        "outputId": "4b04c232-d4c5-4142-8a17-518cdcb12c36"
      },
      "execution_count": 186,
      "outputs": [
        {
          "output_type": "execute_result",
          "data": {
            "text/plain": [
              "0.0    10112\n",
              "1.0      242\n",
              "Name: service_repair, dtype: int64"
            ]
          },
          "metadata": {},
          "execution_count": 186
        }
      ]
    },
    {
      "cell_type": "code",
      "source": [
        "nan_data = train_data[train_data['modemTxLevel'].isna()]\n",
        "nan_data['service_repair'].value_counts()"
      ],
      "metadata": {
        "colab": {
          "base_uri": "https://localhost:8080/"
        },
        "id": "bmxbgIbgAdEV",
        "outputId": "32ed5c94-9120-4e2e-c7f2-27a620b0ae11"
      },
      "execution_count": 187,
      "outputs": [
        {
          "output_type": "execute_result",
          "data": {
            "text/plain": [
              "0.0    105\n",
              "1.0      2\n",
              "Name: service_repair, dtype: int64"
            ]
          },
          "metadata": {},
          "execution_count": 187
        }
      ]
    },
    {
      "cell_type": "markdown",
      "source": [
        "- The networkRxLevel indicates the strength of the signal received by the OLT from the customer's Optical Network Terminal (ONT)\n",
        "- It provides information about the quality and intensity of the signal being transmitted over the network.\n",
        "- A higher networkRxLevel value generally indicates a stronger signal, which is desirable for maintaining a reliable and stable network connection.\n",
        "- The results shows that from the rows with **networkRxLevel == \"NaN\"**, **10112** out of **10354** doesn't require service only **242** require service. Which means that these values cannot be replaced with zero similar for the case of **modemTxLevel**."
      ],
      "metadata": {
        "id": "XsBOt8JUPCTR"
      }
    },
    {
      "cell_type": "code",
      "source": [
        "# Replacing the NaN values using the forward filling method and backward filling.\n",
        "train_data[['networkRxLevel', 'modelRxLevel', 'modemTxLevel']] = train_data[['networkRxLevel', 'modelRxLevel', 'modemTxLevel']].fillna(method='ffill').fillna(method='bfill')\n",
        "\n"
      ],
      "metadata": {
        "id": "V-XuDCHZLYG0"
      },
      "execution_count": 188,
      "outputs": []
    },
    {
      "cell_type": "markdown",
      "source": [
        "### **distance, opticalTemperature, opticalVoltage, modemType, status, ranged** are important features to be considered for the model and and have a few null values.\n",
        "- These values can be replaced with forward and backwardfill and median values."
      ],
      "metadata": {
        "id": "mJc8Fb64V5qc"
      }
    },
    {
      "cell_type": "code",
      "source": [
        "train_data[['opticalVoltage', 'modemType', 'status', 'ranged', 'distance']] = train_data[['opticalVoltage', 'modemType', 'status', 'ranged', 'distance']].fillna(method='ffill').fillna(method='bfill')\n",
        "median_value = train_data['opticalTemperature'].median()\n",
        "train_data['opticalTemperature'] = train_data['opticalTemperature'].fillna(median_value)"
      ],
      "metadata": {
        "id": "7PlHgF8pWkmN"
      },
      "execution_count": 189,
      "outputs": []
    },
    {
      "cell_type": "markdown",
      "source": [
        "- The status and ranged are categorical values and needs to be converted to the encoded format to train the model.\n",
        "- order is kept true since the same formatting will be given during testing phase as well."
      ],
      "metadata": {
        "id": "6WPwG2tKkqK9"
      }
    },
    {
      "cell_type": "code",
      "source": [
        "train_data['status'] = pd.Categorical(train_data['status'], ordered=True).codes\n",
        "train_data['ranged'] = pd.Categorical(train_data['ranged'], ordered=True).codes"
      ],
      "metadata": {
        "id": "b23KjlvdkozL"
      },
      "execution_count": 190,
      "outputs": []
    },
    {
      "cell_type": "markdown",
      "source": [
        "### **TMAX, TMIN** are the weather-related data such as maximum temperature, minimum temperature.\n",
        "- These values can impact the network outage in several ways if there is extreme temperature it can lead to Infrastructure vulnerability, power supply issues, environmental factors etc.\n",
        "- We cannot replace the values with mean or meadian since the data is in fashion that provides continuity.\n"
      ],
      "metadata": {
        "id": "66jQnWcpXaq0"
      }
    },
    {
      "cell_type": "code",
      "source": [
        "train_data[['TMAX', 'TMIN']] = train_data[['TMAX', 'TMIN']].fillna(method='ffill').fillna(method='bfill')"
      ],
      "metadata": {
        "id": "KWXsSefjZ5kL"
      },
      "execution_count": 191,
      "outputs": []
    },
    {
      "cell_type": "markdown",
      "source": [
        "### **PRCP** - It is the amount of precipitation that can occur during that day.\n",
        "- The precipitation values cannot be replaced by applying conditions using the TMIN and TMAX since precipitation can occur at almost all types of weather conditions.\n",
        "- Since the data is closed within a month mostly we can take the mean and fill the NaN values."
      ],
      "metadata": {
        "id": "e8bhXYgdaJ5H"
      }
    },
    {
      "cell_type": "code",
      "source": [
        "mean_value = train_data['PRCP'].mean()\n",
        "train_data['PRCP'] = train_data['PRCP'].fillna(mean_value)"
      ],
      "metadata": {
        "id": "vjzi6YEFbQ-8"
      },
      "execution_count": 192,
      "outputs": []
    },
    {
      "cell_type": "markdown",
      "source": [
        "### **SNOW** - It occurs when there is precipitation\n",
        "- when the precipitation value is **0** the snow cannot be possible. This is the first condition for filling nan values in snow.\n",
        "- When the **TMIN** is above **50F** snow cannot be possible."
      ],
      "metadata": {
        "id": "L1yIgTdYchaR"
      }
    },
    {
      "cell_type": "code",
      "source": [
        "# Appplying the first Condition\n",
        "train_data.loc[train_data['PRCP'] == 0.0, 'SNOW'] = train_data.loc[train_data['PRCP'] == 0.0, 'SNOW'].fillna(0.0)\n",
        "# Applying the Second Condition\n",
        "train_data.loc[train_data['TMIN'] > 50, 'SNOW'] = train_data.loc[train_data['TMIN'] > 50, 'SNOW'].fillna(0.0)"
      ],
      "metadata": {
        "id": "8aJcFqO6deFj"
      },
      "execution_count": 193,
      "outputs": []
    },
    {
      "cell_type": "code",
      "source": [
        "train_data['SNOW'].value_counts()"
      ],
      "metadata": {
        "colab": {
          "base_uri": "https://localhost:8080/"
        },
        "id": "s-MBO028dlNK",
        "outputId": "07534359-36c3-4868-d0aa-59a4a5f271e3"
      },
      "execution_count": 194,
      "outputs": [
        {
          "output_type": "execute_result",
          "data": {
            "text/plain": [
              "0.0    63075\n",
              "Name: SNOW, dtype: int64"
            ]
          },
          "metadata": {},
          "execution_count": 194
        }
      ]
    },
    {
      "cell_type": "markdown",
      "source": [
        "- Since all the values expect the null values were already zero and the rest also became zero the entire columns can be removed from model features"
      ],
      "metadata": {
        "id": "b6Fy7MZSkIxv"
      }
    },
    {
      "cell_type": "code",
      "source": [
        "train_data = train_data.drop('SNOW', axis=1)"
      ],
      "metadata": {
        "id": "JHwd-KpBkHPo"
      },
      "execution_count": 195,
      "outputs": []
    },
    {
      "cell_type": "markdown",
      "source": [
        "### **speedProfile** - This is a representation of the internet speed which the customer connection expected to operate.\n",
        "- The speedProfile can be converted into the download speed and the upload speed to be considered into the model training."
      ],
      "metadata": {
        "id": "XsRY91Q9huB8"
      }
    },
    {
      "cell_type": "code",
      "source": [
        "\"\"\"Function to convert the different data speed into same format\"\"\"\n",
        "def convert_speed(speed):\n",
        "  if speed.endswith(\"M\"):\n",
        "    speed = float(speed.replace('M', ''))\n",
        "  elif speed.endswith(\"K\"):\n",
        "    speed = float(speed.replace(\"K\", ''))\n",
        "    speed /= 1000\n",
        "  else:\n",
        "    speed = float(speed.replace('G', ''))\n",
        "    speed *= 1000\n",
        "  return speed\n",
        "\n",
        "# Applying the speed convertion and adding the new columns to the training data.\n",
        "train_data['download_speed'] = train_data['speedProfile'].apply(lambda x: convert_speed(x.split('/')[0]))\n",
        "train_data['upload_speed'] = train_data['speedProfile'].apply(lambda x: convert_speed(x.split('/')[1]))\n",
        "\n",
        "# Removing the speedProfile.\n",
        "train_data = train_data.drop('speedProfile', axis=1)\n"
      ],
      "metadata": {
        "id": "QCAAN3Wafdqg"
      },
      "execution_count": 196,
      "outputs": []
    },
    {
      "cell_type": "markdown",
      "source": [
        "### **laserBiasThreshold, laserBiasCurrent** - These values provide the bias current level for the laser diode within the transceiver.\n",
        "- The laserBiasThreshold determines the target value for the bias current\n",
        "- By Analysing the input data we can also see when the **laserBiasThreshold** value is **ONT Internal Policy** the corresponding **laserBiasCurrent** is Null.\n",
        "- When the **laserBiasThreshold** is adjusted there is a significance change in the **laserBiasCurrent**"
      ],
      "metadata": {
        "id": "kwWOK50pofG6"
      }
    },
    {
      "cell_type": "code",
      "source": [
        "# Replacing all the NaN values in the laserBiasThreshold as Tunned policy\n",
        "train_data['laserBiasThreshold'] = train_data['laserBiasThreshold'].fillna(\"Tunned _policy\")"
      ],
      "metadata": {
        "id": "Wk6zTF9RlOF0"
      },
      "execution_count": 197,
      "outputs": []
    },
    {
      "cell_type": "code",
      "source": [
        "# Replacing all the nan values in laserbias current with zero when the laserbiasthreshold is ONT Internal Policy\n",
        "train_data.loc[train_data['laserBiasThreshold'] == \"ONT Internal Policy\", 'laserBiasCurrent'] = train_data.loc[train_data['laserBiasThreshold'] == \"ONT Internal Policy\", 'laserBiasCurrent'].fillna(0)"
      ],
      "metadata": {
        "id": "pD0wed6jqaUU"
      },
      "execution_count": 198,
      "outputs": []
    },
    {
      "cell_type": "markdown",
      "source": [
        "- The column **laserBiasThreshold** also needs to be label encoded."
      ],
      "metadata": {
        "id": "c6PK0GL6rmyg"
      }
    },
    {
      "cell_type": "code",
      "source": [
        "train_data['laserBiasThreshold'] = pd.Categorical(train_data['laserBiasThreshold'], ordered=True).codes"
      ],
      "metadata": {
        "id": "a_C4xCe1rwvC"
      },
      "execution_count": 199,
      "outputs": []
    },
    {
      "cell_type": "markdown",
      "source": [
        "### **videoAniAgcModePlanned** is directly related to the **videoAniAgcSetting, videoAniOpInfoOpticalSignalLevel, videoAniOpInfoOpticalSignalLevelDbm, videoAniOpInfoRfPowerLevel**\n",
        "- When the value of **videoAniAgcModePlanned** is empty or \"Instance Unavailable\" the data in the next 4 columns are NUll through out the data."
      ],
      "metadata": {
        "id": "vlbRFXXNtbiZ"
      }
    },
    {
      "cell_type": "markdown",
      "source": [
        "![image.png](data:image/png;base64,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)"
      ],
      "metadata": {
        "id": "6Yifo_lftPTP"
      }
    },
    {
      "cell_type": "code",
      "source": [
        "train_data['videoAniAgcModePlanned'].value_counts()"
      ],
      "metadata": {
        "colab": {
          "base_uri": "https://localhost:8080/"
        },
        "id": "qZnTe0V6xvNk",
        "outputId": "ca458fed-7ae8-453d-d7e2-9e34aba8392b"
      },
      "execution_count": 200,
      "outputs": [
        {
          "output_type": "execute_result",
          "data": {
            "text/plain": [
              "Instance Unavailable    18774\n",
              "Broadband RF             8172\n",
              "Name: videoAniAgcModePlanned, dtype: int64"
            ]
          },
          "metadata": {},
          "execution_count": 200
        }
      ]
    },
    {
      "cell_type": "code",
      "source": [
        "# Replacing the null values in the videoAniAgcModePlanned with \"Instance Unavailable\"\n",
        "train_data['videoAniAgcModePlanned'] = train_data['videoAniAgcModePlanned'].fillna(\"Instance Unavailable\")"
      ],
      "metadata": {
        "id": "iNWzaC4exdyX"
      },
      "execution_count": 201,
      "outputs": []
    },
    {
      "cell_type": "code",
      "source": [
        "# Applying the conditions as per the pattern.\n",
        "columns_to_fill = ['videoAniAgcSetting', 'videoAniOpInfoOpticalSignalLevel', 'videoAniOpInfoOpticalSignalLevelDbm', 'videoAniOpInfoRfPowerLevel']\n",
        "condition = train_data['videoAniAgcModePlanned'] == \"Instance Unavailable\"\n",
        "train_data.loc[condition, columns_to_fill] = train_data.loc[condition, columns_to_fill].fillna(0)"
      ],
      "metadata": {
        "id": "d9_qd8ittXsA"
      },
      "execution_count": 202,
      "outputs": []
    },
    {
      "cell_type": "code",
      "source": [
        "# Label Encoding the videoAniAgcModePlanned column.\n",
        "train_data['videoAniAgcModePlanned'] = pd.Categorical(train_data['videoAniAgcModePlanned'], ordered=True).codes"
      ],
      "metadata": {
        "id": "YYFpEZS0zUQ7"
      },
      "execution_count": 203,
      "outputs": []
    },
    {
      "cell_type": "markdown",
      "source": [
        "### **videoAniOperState** is also dependent on the **videoAniAgcModePlanned**\n",
        "- Replacing the null values with Instance Unavailable and label encoding the data."
      ],
      "metadata": {
        "id": "OYKoMDn_0D02"
      }
    },
    {
      "cell_type": "code",
      "source": [
        "# Replacing the null values in the videoAniOperState with \"Instance Unavailable\"\n",
        "train_data['videoAniOperState'] = train_data['videoAniOperState'].fillna(\"Instance Unavailable\")\n",
        "train_data['videoAniOperState'] = pd.Categorical(train_data['videoAniOperState'], ordered=True).codes"
      ],
      "metadata": {
        "id": "CqbqxBj8zq1n"
      },
      "execution_count": 204,
      "outputs": []
    },
    {
      "cell_type": "markdown",
      "source": [
        "### The Remaing columns have null values of the range of 61000 out of 63,000 of data and cannot be replaced in any means so they are dropped."
      ],
      "metadata": {
        "id": "DB9oRfPf01lo"
      }
    },
    {
      "cell_type": "code",
      "source": [
        "train_data.isna().sum()"
      ],
      "metadata": {
        "colab": {
          "base_uri": "https://localhost:8080/"
        },
        "id": "b-4JU2OeOeEa",
        "outputId": "d68d7ba5-4482-444a-c0bb-73e3f48640d7"
      },
      "execution_count": 205,
      "outputs": [
        {
          "output_type": "execute_result",
          "data": {
            "text/plain": [
              "berDownstream                              0\n",
              "berUpstream                                0\n",
              "networkRxLevel                             0\n",
              "modelRxLevel                               0\n",
              "modemTxLevel                               0\n",
              "distance                                   0\n",
              "opticalTemperature                         0\n",
              "opticalVoltage                             0\n",
              "modemType                                  0\n",
              "status                                     0\n",
              "ranged                                     0\n",
              "laserBiasThreshold                         0\n",
              "laserBiasCurrent                           0\n",
              "videoAniAgcModePlanned                     0\n",
              "videoAniAgcSetting                         0\n",
              "videoAniOpInfoOpticalSignalLevel           0\n",
              "videoAniOpInfoOpticalSignalLevelDbm        0\n",
              "videoAniOpInfoRfPowerLevel                 0\n",
              "videoAniOperState                          0\n",
              "Stops_null                             63075\n",
              "Stops_Admin-Reset                      62963\n",
              "Stops_Idle-Timeout                     60425\n",
              "Stops_Lost-Carrier                     62963\n",
              "Stops_Lost-Service                     62931\n",
              "Stops_NAS-Error                        63075\n",
              "Stops_NAS-Request                      62579\n",
              "Stops_Port-Error                       63075\n",
              "Stops_Service-Unavailable              63075\n",
              "Stops_Session-Timeout                  62870\n",
              "Stops_User-Error                       63075\n",
              "Stops_User-Request                     62144\n",
              "INTENT                                 61715\n",
              "CALLCOMPLETIONREASON                   61722\n",
              "alarms                                     0\n",
              "Alarm_SECS                                 0\n",
              "Session_SECS                               0\n",
              "total_stops                                0\n",
              "TSO_calls_count                        61646\n",
              "SA_TSO                                     0\n",
              "score                                      0\n",
              "service_repair                             0\n",
              "TMAX                                       0\n",
              "TMIN                                       0\n",
              "PRCP                                       0\n",
              "download_speed                             0\n",
              "upload_speed                               0\n",
              "dtype: int64"
            ]
          },
          "metadata": {},
          "execution_count": 205
        }
      ]
    },
    {
      "cell_type": "code",
      "source": [
        "# Dropping the coloums with null values.\n",
        "train_data = train_data.dropna(axis=1)"
      ],
      "metadata": {
        "id": "SdMWuVZy1LLH"
      },
      "execution_count": 206,
      "outputs": []
    },
    {
      "cell_type": "code",
      "source": [
        "train_data.isna().sum()"
      ],
      "metadata": {
        "colab": {
          "base_uri": "https://localhost:8080/"
        },
        "id": "G5Zwp-rC1XND",
        "outputId": "c0d1feb6-b73b-45f2-f612-4ef2725a9553"
      },
      "execution_count": 207,
      "outputs": [
        {
          "output_type": "execute_result",
          "data": {
            "text/plain": [
              "berDownstream                          0\n",
              "berUpstream                            0\n",
              "networkRxLevel                         0\n",
              "modelRxLevel                           0\n",
              "modemTxLevel                           0\n",
              "distance                               0\n",
              "opticalTemperature                     0\n",
              "opticalVoltage                         0\n",
              "modemType                              0\n",
              "status                                 0\n",
              "ranged                                 0\n",
              "laserBiasThreshold                     0\n",
              "laserBiasCurrent                       0\n",
              "videoAniAgcModePlanned                 0\n",
              "videoAniAgcSetting                     0\n",
              "videoAniOpInfoOpticalSignalLevel       0\n",
              "videoAniOpInfoOpticalSignalLevelDbm    0\n",
              "videoAniOpInfoRfPowerLevel             0\n",
              "videoAniOperState                      0\n",
              "alarms                                 0\n",
              "Alarm_SECS                             0\n",
              "Session_SECS                           0\n",
              "total_stops                            0\n",
              "SA_TSO                                 0\n",
              "score                                  0\n",
              "service_repair                         0\n",
              "TMAX                                   0\n",
              "TMIN                                   0\n",
              "PRCP                                   0\n",
              "download_speed                         0\n",
              "upload_speed                           0\n",
              "dtype: int64"
            ]
          },
          "metadata": {},
          "execution_count": 207
        }
      ]
    },
    {
      "cell_type": "code",
      "source": [
        "train_data.dtypes"
      ],
      "metadata": {
        "colab": {
          "base_uri": "https://localhost:8080/"
        },
        "id": "QtY7c9s-1l7-",
        "outputId": "3e48afde-1946-4ec1-ddcd-b1bb8fe94f3b"
      },
      "execution_count": 208,
      "outputs": [
        {
          "output_type": "execute_result",
          "data": {
            "text/plain": [
              "berDownstream                          float64\n",
              "berUpstream                            float64\n",
              "networkRxLevel                         float64\n",
              "modelRxLevel                           float64\n",
              "modemTxLevel                           float64\n",
              "distance                               float64\n",
              "opticalTemperature                     float64\n",
              "opticalVoltage                         float64\n",
              "modemType                              float64\n",
              "status                                    int8\n",
              "ranged                                    int8\n",
              "laserBiasThreshold                        int8\n",
              "laserBiasCurrent                        object\n",
              "videoAniAgcModePlanned                    int8\n",
              "videoAniAgcSetting                     float64\n",
              "videoAniOpInfoOpticalSignalLevel        object\n",
              "videoAniOpInfoOpticalSignalLevelDbm     object\n",
              "videoAniOpInfoRfPowerLevel              object\n",
              "videoAniOperState                         int8\n",
              "alarms                                   int64\n",
              "Alarm_SECS                               int64\n",
              "Session_SECS                             int64\n",
              "total_stops                              int64\n",
              "SA_TSO                                   int64\n",
              "score                                    int64\n",
              "service_repair                         float64\n",
              "TMAX                                   float64\n",
              "TMIN                                   float64\n",
              "PRCP                                   float64\n",
              "download_speed                         float64\n",
              "upload_speed                           float64\n",
              "dtype: object"
            ]
          },
          "metadata": {},
          "execution_count": 208
        }
      ]
    },
    {
      "cell_type": "code",
      "source": [
        "# Checking for Categorical values in the data.\n",
        "categorical_columns = train_data.select_dtypes(include=['object', 'category']).columns\n",
        "\n",
        "# Displaying the columns containing categorical values.\n",
        "print(categorical_columns)"
      ],
      "metadata": {
        "colab": {
          "base_uri": "https://localhost:8080/"
        },
        "id": "mE0UMSEM12JQ",
        "outputId": "fc7357fc-c5a4-4b4e-876c-78c6e81e169f"
      },
      "execution_count": 209,
      "outputs": [
        {
          "output_type": "stream",
          "name": "stdout",
          "text": [
            "Index(['laserBiasCurrent', 'videoAniOpInfoOpticalSignalLevel',\n",
            "       'videoAniOpInfoOpticalSignalLevelDbm', 'videoAniOpInfoRfPowerLevel'],\n",
            "      dtype='object')\n"
          ]
        }
      ]
    },
    {
      "cell_type": "markdown",
      "source": [
        "### Replacing the \"Unknown\" values with -1 so that the model can understand that these values are not known."
      ],
      "metadata": {
        "id": "rVVsOCAE3Dhu"
      }
    },
    {
      "cell_type": "code",
      "source": [
        "columns_to_replace = ['videoAniOpInfoOpticalSignalLevel', 'videoAniOpInfoOpticalSignalLevelDbm', 'videoAniOpInfoRfPowerLevel']\n",
        "value_to_replace = \"Unknown\"\n",
        "replacement_value = -1\n",
        "train_data[columns_to_replace] = train_data[columns_to_replace].replace(value_to_replace, replacement_value)\n"
      ],
      "metadata": {
        "colab": {
          "base_uri": "https://localhost:8080/"
        },
        "id": "yDmnG_fM2_mS",
        "outputId": "dc8de3ea-b303-4cbd-f4a4-a7f86f5ca82f"
      },
      "execution_count": 210,
      "outputs": [
        {
          "output_type": "stream",
          "name": "stderr",
          "text": [
            "<ipython-input-210-87efbf4f44a6>:4: SettingWithCopyWarning: \n",
            "A value is trying to be set on a copy of a slice from a DataFrame.\n",
            "Try using .loc[row_indexer,col_indexer] = value instead\n",
            "\n",
            "See the caveats in the documentation: https://pandas.pydata.org/pandas-docs/stable/user_guide/indexing.html#returning-a-view-versus-a-copy\n",
            "  train_data[columns_to_replace] = train_data[columns_to_replace].replace(value_to_replace, replacement_value)\n"
          ]
        }
      ]
    },
    {
      "cell_type": "code",
      "source": [
        "# Converting to float data type from objects\n",
        "columns_to_convert = ['laserBiasCurrent', 'videoAniOpInfoOpticalSignalLevel', 'videoAniOpInfoOpticalSignalLevelDbm', 'videoAniOpInfoRfPowerLevel']\n",
        "\n",
        "# Replace 'Not Supported' with NaN\n",
        "train_data[columns_to_convert] = train_data[columns_to_convert].replace('Not Supported', np.nan)\n",
        "\n",
        "# Convert the columns to float\n",
        "train_data[columns_to_convert] = train_data[columns_to_convert].astype(float)\n",
        "\n"
      ],
      "metadata": {
        "id": "NHHK-jbX7Yac"
      },
      "execution_count": 217,
      "outputs": []
    },
    {
      "cell_type": "markdown",
      "source": [
        "# Model Building"
      ],
      "metadata": {
        "id": "IMuaJ5xK4CEv"
      }
    },
    {
      "cell_type": "code",
      "source": [
        "import xgboost as xgb\n",
        "from sklearn.model_selection import train_test_split, GridSearchCV\n",
        "from sklearn.metrics import accuracy_score\n"
      ],
      "metadata": {
        "id": "GWPg7r_p4F1d"
      },
      "execution_count": 218,
      "outputs": []
    },
    {
      "cell_type": "code",
      "source": [
        "# Defining the inputs and targets\n",
        "X = train_data.drop('service_repair', axis=1)\n",
        "y = train_data['service_repair']"
      ],
      "metadata": {
        "id": "dNYqXns44UH1"
      },
      "execution_count": 219,
      "outputs": []
    },
    {
      "cell_type": "code",
      "source": [
        "X.columns"
      ],
      "metadata": {
        "colab": {
          "base_uri": "https://localhost:8080/"
        },
        "id": "XCIxNOWEADDz",
        "outputId": "2cbb8161-e229-4d45-c2a3-cd67b3c29d35"
      },
      "execution_count": 235,
      "outputs": [
        {
          "output_type": "execute_result",
          "data": {
            "text/plain": [
              "Index(['berDownstream', 'berUpstream', 'networkRxLevel', 'modelRxLevel',\n",
              "       'modemTxLevel', 'distance', 'opticalTemperature', 'opticalVoltage',\n",
              "       'modemType', 'status', 'ranged', 'laserBiasThreshold',\n",
              "       'laserBiasCurrent', 'videoAniAgcModePlanned', 'videoAniAgcSetting',\n",
              "       'videoAniOpInfoOpticalSignalLevel',\n",
              "       'videoAniOpInfoOpticalSignalLevelDbm', 'videoAniOpInfoRfPowerLevel',\n",
              "       'videoAniOperState', 'alarms', 'Alarm_SECS', 'Session_SECS',\n",
              "       'total_stops', 'SA_TSO', 'score', 'TMAX', 'TMIN', 'PRCP',\n",
              "       'download_speed', 'upload_speed'],\n",
              "      dtype='object')"
            ]
          },
          "metadata": {},
          "execution_count": 235
        }
      ]
    },
    {
      "cell_type": "code",
      "source": [
        "# Splitting the data into training and testing set.\n",
        "X_train, X_test, y_train, y_test = train_test_split(X, y, test_size=0.2, random_state=42, stratify = y)"
      ],
      "metadata": {
        "id": "Qy3K1Vvn4f0b"
      },
      "execution_count": 220,
      "outputs": []
    },
    {
      "cell_type": "code",
      "source": [
        "# Setting parameters for hyperparameter tunning.\n",
        "param_grid = {\n",
        "    'max_depth': [3, 5, 7],\n",
        "    'learning_rate': [0.1, 0.01, 0.001],\n",
        "    'n_estimators': [100, 500, 1000]\n",
        "}"
      ],
      "metadata": {
        "id": "z1Y8X7zN5O_n"
      },
      "execution_count": 221,
      "outputs": []
    },
    {
      "cell_type": "code",
      "source": [
        "# Defining the XG boosst object\n",
        "xgb_model = xgb.XGBClassifier()\n",
        "# Grid searchCV with 5 fold.\n",
        "grid_search = GridSearchCV(estimator = xgb_model, param_grid = param_grid, cv=5)\n",
        "grid_search.fit(X_train, y_train)\n"
      ],
      "metadata": {
        "colab": {
          "base_uri": "https://localhost:8080/",
          "height": 117
        },
        "id": "PHOiqIwL5O29",
        "outputId": "294b8d39-40fe-4526-f34c-fc994f75d926"
      },
      "execution_count": 222,
      "outputs": [
        {
          "output_type": "execute_result",
          "data": {
            "text/plain": [
              "GridSearchCV(cv=5,\n",
              "             estimator=XGBClassifier(base_score=None, booster=None,\n",
              "                                     callbacks=None, colsample_bylevel=None,\n",
              "                                     colsample_bynode=None,\n",
              "                                     colsample_bytree=None, device=None,\n",
              "                                     early_stopping_rounds=None,\n",
              "                                     enable_categorical=False, eval_metric=None,\n",
              "                                     feature_types=None, gamma=None,\n",
              "                                     grow_policy=None, importance_type=None,\n",
              "                                     interaction_constraints=None,\n",
              "                                     learning_rate=None,...,\n",
              "                                     max_cat_threshold=None,\n",
              "                                     max_cat_to_onehot=None,\n",
              "                                     max_delta_step=None, max_depth=None,\n",
              "                                     max_leaves=None, min_child_weight=None,\n",
              "                                     missing=nan, monotone_constraints=None,\n",
              "                                     multi_strategy=None, n_estimators=None,\n",
              "                                     n_jobs=None, num_parallel_tree=None,\n",
              "                                     random_state=None, ...),\n",
              "             param_grid={'learning_rate': [0.1, 0.01, 0.001],\n",
              "                         'max_depth': [3, 5, 7],\n",
              "                         'n_estimators': [100, 500, 1000]})"
            ],
            "text/html": [
              "<style>#sk-container-id-1 {color: black;background-color: white;}#sk-container-id-1 pre{padding: 0;}#sk-container-id-1 div.sk-toggleable {background-color: white;}#sk-container-id-1 label.sk-toggleable__label {cursor: pointer;display: block;width: 100%;margin-bottom: 0;padding: 0.3em;box-sizing: border-box;text-align: center;}#sk-container-id-1 label.sk-toggleable__label-arrow:before {content: \"▸\";float: left;margin-right: 0.25em;color: #696969;}#sk-container-id-1 label.sk-toggleable__label-arrow:hover:before {color: black;}#sk-container-id-1 div.sk-estimator:hover label.sk-toggleable__label-arrow:before {color: black;}#sk-container-id-1 div.sk-toggleable__content {max-height: 0;max-width: 0;overflow: hidden;text-align: left;background-color: #f0f8ff;}#sk-container-id-1 div.sk-toggleable__content pre {margin: 0.2em;color: black;border-radius: 0.25em;background-color: #f0f8ff;}#sk-container-id-1 input.sk-toggleable__control:checked~div.sk-toggleable__content {max-height: 200px;max-width: 100%;overflow: auto;}#sk-container-id-1 input.sk-toggleable__control:checked~label.sk-toggleable__label-arrow:before {content: \"▾\";}#sk-container-id-1 div.sk-estimator input.sk-toggleable__control:checked~label.sk-toggleable__label {background-color: #d4ebff;}#sk-container-id-1 div.sk-label input.sk-toggleable__control:checked~label.sk-toggleable__label {background-color: #d4ebff;}#sk-container-id-1 input.sk-hidden--visually {border: 0;clip: rect(1px 1px 1px 1px);clip: rect(1px, 1px, 1px, 1px);height: 1px;margin: -1px;overflow: hidden;padding: 0;position: absolute;width: 1px;}#sk-container-id-1 div.sk-estimator {font-family: monospace;background-color: #f0f8ff;border: 1px dotted black;border-radius: 0.25em;box-sizing: border-box;margin-bottom: 0.5em;}#sk-container-id-1 div.sk-estimator:hover {background-color: #d4ebff;}#sk-container-id-1 div.sk-parallel-item::after {content: \"\";width: 100%;border-bottom: 1px solid gray;flex-grow: 1;}#sk-container-id-1 div.sk-label:hover label.sk-toggleable__label {background-color: #d4ebff;}#sk-container-id-1 div.sk-serial::before {content: \"\";position: absolute;border-left: 1px solid gray;box-sizing: border-box;top: 0;bottom: 0;left: 50%;z-index: 0;}#sk-container-id-1 div.sk-serial {display: flex;flex-direction: column;align-items: center;background-color: white;padding-right: 0.2em;padding-left: 0.2em;position: relative;}#sk-container-id-1 div.sk-item {position: relative;z-index: 1;}#sk-container-id-1 div.sk-parallel {display: flex;align-items: stretch;justify-content: center;background-color: white;position: relative;}#sk-container-id-1 div.sk-item::before, #sk-container-id-1 div.sk-parallel-item::before {content: \"\";position: absolute;border-left: 1px solid gray;box-sizing: border-box;top: 0;bottom: 0;left: 50%;z-index: -1;}#sk-container-id-1 div.sk-parallel-item {display: flex;flex-direction: column;z-index: 1;position: relative;background-color: white;}#sk-container-id-1 div.sk-parallel-item:first-child::after {align-self: flex-end;width: 50%;}#sk-container-id-1 div.sk-parallel-item:last-child::after {align-self: flex-start;width: 50%;}#sk-container-id-1 div.sk-parallel-item:only-child::after {width: 0;}#sk-container-id-1 div.sk-dashed-wrapped {border: 1px dashed gray;margin: 0 0.4em 0.5em 0.4em;box-sizing: border-box;padding-bottom: 0.4em;background-color: white;}#sk-container-id-1 div.sk-label label {font-family: monospace;font-weight: bold;display: inline-block;line-height: 1.2em;}#sk-container-id-1 div.sk-label-container {text-align: center;}#sk-container-id-1 div.sk-container {/* jupyter's `normalize.less` sets `[hidden] { display: none; }` but bootstrap.min.css set `[hidden] { display: none !important; }` so we also need the `!important` here to be able to override the default hidden behavior on the sphinx rendered scikit-learn.org. See: https://github.com/scikit-learn/scikit-learn/issues/21755 */display: inline-block !important;position: relative;}#sk-container-id-1 div.sk-text-repr-fallback {display: none;}</style><div id=\"sk-container-id-1\" class=\"sk-top-container\"><div class=\"sk-text-repr-fallback\"><pre>GridSearchCV(cv=5,\n",
              "             estimator=XGBClassifier(base_score=None, booster=None,\n",
              "                                     callbacks=None, colsample_bylevel=None,\n",
              "                                     colsample_bynode=None,\n",
              "                                     colsample_bytree=None, device=None,\n",
              "                                     early_stopping_rounds=None,\n",
              "                                     enable_categorical=False, eval_metric=None,\n",
              "                                     feature_types=None, gamma=None,\n",
              "                                     grow_policy=None, importance_type=None,\n",
              "                                     interaction_constraints=None,\n",
              "                                     learning_rate=None,...,\n",
              "                                     max_cat_threshold=None,\n",
              "                                     max_cat_to_onehot=None,\n",
              "                                     max_delta_step=None, max_depth=None,\n",
              "                                     max_leaves=None, min_child_weight=None,\n",
              "                                     missing=nan, monotone_constraints=None,\n",
              "                                     multi_strategy=None, n_estimators=None,\n",
              "                                     n_jobs=None, num_parallel_tree=None,\n",
              "                                     random_state=None, ...),\n",
              "             param_grid={&#x27;learning_rate&#x27;: [0.1, 0.01, 0.001],\n",
              "                         &#x27;max_depth&#x27;: [3, 5, 7],\n",
              "                         &#x27;n_estimators&#x27;: [100, 500, 1000]})</pre><b>In a Jupyter environment, please rerun this cell to show the HTML representation or trust the notebook. <br />On GitHub, the HTML representation is unable to render, please try loading this page with nbviewer.org.</b></div><div class=\"sk-container\" hidden><div class=\"sk-item sk-dashed-wrapped\"><div class=\"sk-label-container\"><div class=\"sk-label sk-toggleable\"><input class=\"sk-toggleable__control sk-hidden--visually\" id=\"sk-estimator-id-1\" type=\"checkbox\" ><label for=\"sk-estimator-id-1\" class=\"sk-toggleable__label sk-toggleable__label-arrow\">GridSearchCV</label><div class=\"sk-toggleable__content\"><pre>GridSearchCV(cv=5,\n",
              "             estimator=XGBClassifier(base_score=None, booster=None,\n",
              "                                     callbacks=None, colsample_bylevel=None,\n",
              "                                     colsample_bynode=None,\n",
              "                                     colsample_bytree=None, device=None,\n",
              "                                     early_stopping_rounds=None,\n",
              "                                     enable_categorical=False, eval_metric=None,\n",
              "                                     feature_types=None, gamma=None,\n",
              "                                     grow_policy=None, importance_type=None,\n",
              "                                     interaction_constraints=None,\n",
              "                                     learning_rate=None,...,\n",
              "                                     max_cat_threshold=None,\n",
              "                                     max_cat_to_onehot=None,\n",
              "                                     max_delta_step=None, max_depth=None,\n",
              "                                     max_leaves=None, min_child_weight=None,\n",
              "                                     missing=nan, monotone_constraints=None,\n",
              "                                     multi_strategy=None, n_estimators=None,\n",
              "                                     n_jobs=None, num_parallel_tree=None,\n",
              "                                     random_state=None, ...),\n",
              "             param_grid={&#x27;learning_rate&#x27;: [0.1, 0.01, 0.001],\n",
              "                         &#x27;max_depth&#x27;: [3, 5, 7],\n",
              "                         &#x27;n_estimators&#x27;: [100, 500, 1000]})</pre></div></div></div><div class=\"sk-parallel\"><div class=\"sk-parallel-item\"><div class=\"sk-item\"><div class=\"sk-label-container\"><div class=\"sk-label sk-toggleable\"><input class=\"sk-toggleable__control sk-hidden--visually\" id=\"sk-estimator-id-2\" type=\"checkbox\" ><label for=\"sk-estimator-id-2\" class=\"sk-toggleable__label sk-toggleable__label-arrow\">estimator: XGBClassifier</label><div class=\"sk-toggleable__content\"><pre>XGBClassifier(base_score=None, booster=None, callbacks=None,\n",
              "              colsample_bylevel=None, colsample_bynode=None,\n",
              "              colsample_bytree=None, device=None, early_stopping_rounds=None,\n",
              "              enable_categorical=False, eval_metric=None, feature_types=None,\n",
              "              gamma=None, grow_policy=None, importance_type=None,\n",
              "              interaction_constraints=None, learning_rate=None, max_bin=None,\n",
              "              max_cat_threshold=None, max_cat_to_onehot=None,\n",
              "              max_delta_step=None, max_depth=None, max_leaves=None,\n",
              "              min_child_weight=None, missing=nan, monotone_constraints=None,\n",
              "              multi_strategy=None, n_estimators=None, n_jobs=None,\n",
              "              num_parallel_tree=None, random_state=None, ...)</pre></div></div></div><div class=\"sk-serial\"><div class=\"sk-item\"><div class=\"sk-estimator sk-toggleable\"><input class=\"sk-toggleable__control sk-hidden--visually\" id=\"sk-estimator-id-3\" type=\"checkbox\" ><label for=\"sk-estimator-id-3\" class=\"sk-toggleable__label sk-toggleable__label-arrow\">XGBClassifier</label><div class=\"sk-toggleable__content\"><pre>XGBClassifier(base_score=None, booster=None, callbacks=None,\n",
              "              colsample_bylevel=None, colsample_bynode=None,\n",
              "              colsample_bytree=None, device=None, early_stopping_rounds=None,\n",
              "              enable_categorical=False, eval_metric=None, feature_types=None,\n",
              "              gamma=None, grow_policy=None, importance_type=None,\n",
              "              interaction_constraints=None, learning_rate=None, max_bin=None,\n",
              "              max_cat_threshold=None, max_cat_to_onehot=None,\n",
              "              max_delta_step=None, max_depth=None, max_leaves=None,\n",
              "              min_child_weight=None, missing=nan, monotone_constraints=None,\n",
              "              multi_strategy=None, n_estimators=None, n_jobs=None,\n",
              "              num_parallel_tree=None, random_state=None, ...)</pre></div></div></div></div></div></div></div></div></div></div>"
            ]
          },
          "metadata": {},
          "execution_count": 222
        }
      ]
    },
    {
      "cell_type": "code",
      "source": [
        "# Finding the best parameters\n",
        "best_params = grid_search.best_params_\n",
        "print(best_params)"
      ],
      "metadata": {
        "colab": {
          "base_uri": "https://localhost:8080/"
        },
        "id": "Nr1t-yhq5F-d",
        "outputId": "2050e0ac-02ea-4ce3-c6fa-2bcc0c02ff4e"
      },
      "execution_count": 223,
      "outputs": [
        {
          "output_type": "stream",
          "name": "stdout",
          "text": [
            "{'learning_rate': 0.01, 'max_depth': 5, 'n_estimators': 500}\n"
          ]
        }
      ]
    },
    {
      "cell_type": "code",
      "source": [
        "# Training the model with the best parameters\n",
        "xgb_model = xgb.XGBClassifier(**best_params)\n",
        "xgb_model.fit(X_train, y_train)"
      ],
      "metadata": {
        "colab": {
          "base_uri": "https://localhost:8080/",
          "height": 248
        },
        "id": "wlEzcX6B5sUA",
        "outputId": "31c99952-ad7b-492c-bc23-04fde528724e"
      },
      "execution_count": 224,
      "outputs": [
        {
          "output_type": "execute_result",
          "data": {
            "text/plain": [
              "XGBClassifier(base_score=None, booster=None, callbacks=None,\n",
              "              colsample_bylevel=None, colsample_bynode=None,\n",
              "              colsample_bytree=None, device=None, early_stopping_rounds=None,\n",
              "              enable_categorical=False, eval_metric=None, feature_types=None,\n",
              "              gamma=None, grow_policy=None, importance_type=None,\n",
              "              interaction_constraints=None, learning_rate=0.01, max_bin=None,\n",
              "              max_cat_threshold=None, max_cat_to_onehot=None,\n",
              "              max_delta_step=None, max_depth=5, max_leaves=None,\n",
              "              min_child_weight=None, missing=nan, monotone_constraints=None,\n",
              "              multi_strategy=None, n_estimators=500, n_jobs=None,\n",
              "              num_parallel_tree=None, random_state=None, ...)"
            ],
            "text/html": [
              "<style>#sk-container-id-2 {color: black;background-color: white;}#sk-container-id-2 pre{padding: 0;}#sk-container-id-2 div.sk-toggleable {background-color: white;}#sk-container-id-2 label.sk-toggleable__label {cursor: pointer;display: block;width: 100%;margin-bottom: 0;padding: 0.3em;box-sizing: border-box;text-align: center;}#sk-container-id-2 label.sk-toggleable__label-arrow:before {content: \"▸\";float: left;margin-right: 0.25em;color: #696969;}#sk-container-id-2 label.sk-toggleable__label-arrow:hover:before {color: black;}#sk-container-id-2 div.sk-estimator:hover label.sk-toggleable__label-arrow:before {color: black;}#sk-container-id-2 div.sk-toggleable__content {max-height: 0;max-width: 0;overflow: hidden;text-align: left;background-color: #f0f8ff;}#sk-container-id-2 div.sk-toggleable__content pre {margin: 0.2em;color: black;border-radius: 0.25em;background-color: #f0f8ff;}#sk-container-id-2 input.sk-toggleable__control:checked~div.sk-toggleable__content {max-height: 200px;max-width: 100%;overflow: auto;}#sk-container-id-2 input.sk-toggleable__control:checked~label.sk-toggleable__label-arrow:before {content: \"▾\";}#sk-container-id-2 div.sk-estimator input.sk-toggleable__control:checked~label.sk-toggleable__label {background-color: #d4ebff;}#sk-container-id-2 div.sk-label input.sk-toggleable__control:checked~label.sk-toggleable__label {background-color: #d4ebff;}#sk-container-id-2 input.sk-hidden--visually {border: 0;clip: rect(1px 1px 1px 1px);clip: rect(1px, 1px, 1px, 1px);height: 1px;margin: -1px;overflow: hidden;padding: 0;position: absolute;width: 1px;}#sk-container-id-2 div.sk-estimator {font-family: monospace;background-color: #f0f8ff;border: 1px dotted black;border-radius: 0.25em;box-sizing: border-box;margin-bottom: 0.5em;}#sk-container-id-2 div.sk-estimator:hover {background-color: #d4ebff;}#sk-container-id-2 div.sk-parallel-item::after {content: \"\";width: 100%;border-bottom: 1px solid gray;flex-grow: 1;}#sk-container-id-2 div.sk-label:hover label.sk-toggleable__label {background-color: #d4ebff;}#sk-container-id-2 div.sk-serial::before {content: \"\";position: absolute;border-left: 1px solid gray;box-sizing: border-box;top: 0;bottom: 0;left: 50%;z-index: 0;}#sk-container-id-2 div.sk-serial {display: flex;flex-direction: column;align-items: center;background-color: white;padding-right: 0.2em;padding-left: 0.2em;position: relative;}#sk-container-id-2 div.sk-item {position: relative;z-index: 1;}#sk-container-id-2 div.sk-parallel {display: flex;align-items: stretch;justify-content: center;background-color: white;position: relative;}#sk-container-id-2 div.sk-item::before, #sk-container-id-2 div.sk-parallel-item::before {content: \"\";position: absolute;border-left: 1px solid gray;box-sizing: border-box;top: 0;bottom: 0;left: 50%;z-index: -1;}#sk-container-id-2 div.sk-parallel-item {display: flex;flex-direction: column;z-index: 1;position: relative;background-color: white;}#sk-container-id-2 div.sk-parallel-item:first-child::after {align-self: flex-end;width: 50%;}#sk-container-id-2 div.sk-parallel-item:last-child::after {align-self: flex-start;width: 50%;}#sk-container-id-2 div.sk-parallel-item:only-child::after {width: 0;}#sk-container-id-2 div.sk-dashed-wrapped {border: 1px dashed gray;margin: 0 0.4em 0.5em 0.4em;box-sizing: border-box;padding-bottom: 0.4em;background-color: white;}#sk-container-id-2 div.sk-label label {font-family: monospace;font-weight: bold;display: inline-block;line-height: 1.2em;}#sk-container-id-2 div.sk-label-container {text-align: center;}#sk-container-id-2 div.sk-container {/* jupyter's `normalize.less` sets `[hidden] { display: none; }` but bootstrap.min.css set `[hidden] { display: none !important; }` so we also need the `!important` here to be able to override the default hidden behavior on the sphinx rendered scikit-learn.org. See: https://github.com/scikit-learn/scikit-learn/issues/21755 */display: inline-block !important;position: relative;}#sk-container-id-2 div.sk-text-repr-fallback {display: none;}</style><div id=\"sk-container-id-2\" class=\"sk-top-container\"><div class=\"sk-text-repr-fallback\"><pre>XGBClassifier(base_score=None, booster=None, callbacks=None,\n",
              "              colsample_bylevel=None, colsample_bynode=None,\n",
              "              colsample_bytree=None, device=None, early_stopping_rounds=None,\n",
              "              enable_categorical=False, eval_metric=None, feature_types=None,\n",
              "              gamma=None, grow_policy=None, importance_type=None,\n",
              "              interaction_constraints=None, learning_rate=0.01, max_bin=None,\n",
              "              max_cat_threshold=None, max_cat_to_onehot=None,\n",
              "              max_delta_step=None, max_depth=5, max_leaves=None,\n",
              "              min_child_weight=None, missing=nan, monotone_constraints=None,\n",
              "              multi_strategy=None, n_estimators=500, n_jobs=None,\n",
              "              num_parallel_tree=None, random_state=None, ...)</pre><b>In a Jupyter environment, please rerun this cell to show the HTML representation or trust the notebook. <br />On GitHub, the HTML representation is unable to render, please try loading this page with nbviewer.org.</b></div><div class=\"sk-container\" hidden><div class=\"sk-item\"><div class=\"sk-estimator sk-toggleable\"><input class=\"sk-toggleable__control sk-hidden--visually\" id=\"sk-estimator-id-4\" type=\"checkbox\" checked><label for=\"sk-estimator-id-4\" class=\"sk-toggleable__label sk-toggleable__label-arrow\">XGBClassifier</label><div class=\"sk-toggleable__content\"><pre>XGBClassifier(base_score=None, booster=None, callbacks=None,\n",
              "              colsample_bylevel=None, colsample_bynode=None,\n",
              "              colsample_bytree=None, device=None, early_stopping_rounds=None,\n",
              "              enable_categorical=False, eval_metric=None, feature_types=None,\n",
              "              gamma=None, grow_policy=None, importance_type=None,\n",
              "              interaction_constraints=None, learning_rate=0.01, max_bin=None,\n",
              "              max_cat_threshold=None, max_cat_to_onehot=None,\n",
              "              max_delta_step=None, max_depth=5, max_leaves=None,\n",
              "              min_child_weight=None, missing=nan, monotone_constraints=None,\n",
              "              multi_strategy=None, n_estimators=500, n_jobs=None,\n",
              "              num_parallel_tree=None, random_state=None, ...)</pre></div></div></div></div></div>"
            ]
          },
          "metadata": {},
          "execution_count": 224
        }
      ]
    },
    {
      "cell_type": "code",
      "source": [
        "# Evaluating the model and finding the accuracy.\n",
        "y_val_pred = xgb_model.predict(X_test)\n",
        "accuracy = accuracy_score(y_test, y_val_pred)\n",
        "print(\"Validation Accuracy:\", accuracy)"
      ],
      "metadata": {
        "colab": {
          "base_uri": "https://localhost:8080/"
        },
        "id": "2kEFQChQ5vrY",
        "outputId": "b504b20c-5246-4715-930e-54252d205653"
      },
      "execution_count": 225,
      "outputs": [
        {
          "output_type": "stream",
          "name": "stdout",
          "text": [
            "Validation Accuracy: 0.978359096313912\n"
          ]
        }
      ]
    },
    {
      "cell_type": "code",
      "source": [
        "import joblib\n",
        "\n",
        "# Assuming your trained model is called 'model'\n",
        "# Save the trained model\n",
        "joblib.dump(xgb_model, 'trained_model.pkl')\n",
        "\n",
        "# Load the saved model\n",
        "loaded_model = joblib.load('trained_model.pkl')"
      ],
      "metadata": {
        "id": "00xr893x4PKk"
      },
      "execution_count": 231,
      "outputs": []
    },
    {
      "cell_type": "markdown",
      "source": [
        "## Loading the actual test data"
      ],
      "metadata": {
        "id": "C0p3WBo7_F9x"
      }
    },
    {
      "cell_type": "code",
      "source": [
        "test = pd.read_csv('/content/drive/MyDrive/fronteir challenge/test_data.csv')"
      ],
      "metadata": {
        "id": "5T80gvxO5A76"
      },
      "execution_count": 227,
      "outputs": []
    },
    {
      "cell_type": "code",
      "source": [
        "def test_data_convertion(data):\n",
        "  data = data.drop('Customer', axis=1)\n",
        "  data = data.drop('clli', axis=1)\n",
        "  data = data.drop(['year', 'month', 'day', 'date'], axis=1)\n",
        "  columns = ['rack', 'shelf', 'slot', 'port', 'ont']\n",
        "  data = data.drop(columns, axis=1)\n",
        "  data = data.drop('objectName', axis=1)\n",
        "  data[['berDownstream', 'berUpstream']] = data[['berDownstream', 'berUpstream']].fillna(-1)\n",
        "  data = data.drop('objectType', axis=1)\n",
        "  data[['networkRxLevel', 'modelRxLevel', 'modemTxLevel']] = data[['networkRxLevel', 'modelRxLevel', 'modemTxLevel']].fillna(method='ffill').fillna(method='bfill')\n",
        "  data[['opticalVoltage', 'modemType', 'status', 'ranged', 'distance']] = data[['opticalVoltage', 'modemType', 'status', 'ranged', 'distance']].fillna(method='ffill').fillna(method='bfill')\n",
        "  median_value = data['opticalTemperature'].median()\n",
        "  data['opticalTemperature'] = data['opticalTemperature'].fillna(median_value)\n",
        "  data[['TMAX', 'TMIN']] = data[['TMAX', 'TMIN']].fillna(method='ffill').fillna(method='bfill')\n",
        "  mean_value = data['PRCP'].mean()\n",
        "  data['PRCP'] = data['PRCP'].fillna(mean_value)\n",
        "  # Appplying the first Condition\n",
        "  data.loc[data['PRCP'] == 0.0, 'SNOW'] = data.loc[data['PRCP'] == 0.0, 'SNOW'].fillna(0.0)\n",
        "  # Applying the Second Condition\n",
        "  data.loc[data['TMIN'] > 50, 'SNOW'] = data.loc[data['TMIN'] > 50, 'SNOW'].fillna(0.0)\n",
        "  data = data.drop('SNOW', axis=1)\n",
        "  data['status'] = pd.Categorical(data['status'], ordered=True).codes\n",
        "  data['ranged'] = pd.Categorical(data['ranged'], ordered=True).codes\n",
        "  data['download_speed'] = data['speedProfile'].apply(lambda x: convert_speed(x.split('/')[0]))\n",
        "  data['upload_speed'] = data['speedProfile'].apply(lambda x: convert_speed(x.split('/')[1]))\n",
        "  # Remove the speedProfile column if needed\n",
        "  data = data.drop('speedProfile', axis=1)\n",
        "  data['laserBiasThreshold'] = data['laserBiasThreshold'].fillna(\"Tunned _policy\")\n",
        "  data.loc[data['laserBiasThreshold'] == \"ONT Internal Policy\", 'laserBiasCurrent'] = data.loc[data['laserBiasThreshold'] == \"ONT Internal Policy\", 'laserBiasCurrent'].fillna(0)\n",
        "  data['laserBiasThreshold'] = pd.Categorical(data['laserBiasThreshold'], ordered=True).codes\n",
        "  data['videoAniAgcModePlanned'] = data['videoAniAgcModePlanned'].fillna(\"Instance Unavailable\")\n",
        "  columns_to_fill = ['videoAniAgcSetting', 'videoAniOpInfoOpticalSignalLevel', 'videoAniOpInfoOpticalSignalLevelDbm', 'videoAniOpInfoRfPowerLevel']\n",
        "  condition = data['videoAniAgcModePlanned'] == \"Instance Unavailable\"\n",
        "  data.loc[condition, columns_to_fill] = data.loc[condition, columns_to_fill].fillna(0)\n",
        "  data['videoAniAgcModePlanned'] = pd.Categorical(data['videoAniAgcModePlanned'], ordered=True).codes\n",
        "  data['videoAniOperState'] = data['videoAniOperState'].fillna(\"Instance Unavailable\")\n",
        "  data['videoAniOperState'] = pd.Categorical(data['videoAniOperState'], ordered=True).codes\n",
        "\n",
        "  columns_to_replace = ['videoAniOpInfoOpticalSignalLevel', 'videoAniOpInfoOpticalSignalLevelDbm', 'videoAniOpInfoRfPowerLevel']\n",
        "  value_to_replace = \"Unknown\"\n",
        "  replacement_value = -1\n",
        "  data[columns_to_replace] = data[columns_to_replace].replace(value_to_replace, replacement_value)\n",
        "  # Converting to float data type from objects\n",
        "  data = data.dropna(axis=1)\n",
        "  columns_to_convert = ['laserBiasCurrent', 'videoAniOpInfoOpticalSignalLevel', 'videoAniOpInfoOpticalSignalLevelDbm', 'videoAniOpInfoRfPowerLevel']\n",
        "\n",
        "  # Replace 'Not Supported' with NaN\n",
        "  data[columns_to_convert] = data[columns_to_convert].replace('Not Supported', np.nan)\n",
        "\n",
        "  # Convert the columns to float\n",
        "  data[columns_to_convert] = data[columns_to_convert].astype(float)\n",
        "\n",
        "  return data"
      ],
      "metadata": {
        "id": "yG9BkPUt_LFd"
      },
      "execution_count": 245,
      "outputs": []
    },
    {
      "cell_type": "code",
      "source": [
        "test_data = test_data_convertion(test)"
      ],
      "metadata": {
        "id": "34xRmXOX_QM2"
      },
      "execution_count": 246,
      "outputs": []
    },
    {
      "cell_type": "code",
      "source": [
        "test_data.columns"
      ],
      "metadata": {
        "colab": {
          "base_uri": "https://localhost:8080/"
        },
        "id": "lS5BCaMx_7hO",
        "outputId": "7fb4e8be-7a22-43e2-a354-d34ade608835"
      },
      "execution_count": 247,
      "outputs": [
        {
          "output_type": "execute_result",
          "data": {
            "text/plain": [
              "Index(['berDownstream', 'berUpstream', 'networkRxLevel', 'modelRxLevel',\n",
              "       'modemTxLevel', 'distance', 'opticalTemperature', 'opticalVoltage',\n",
              "       'modemType', 'status', 'ranged', 'laserBiasThreshold',\n",
              "       'laserBiasCurrent', 'videoAniAgcModePlanned', 'videoAniAgcSetting',\n",
              "       'videoAniOpInfoOpticalSignalLevel',\n",
              "       'videoAniOpInfoOpticalSignalLevelDbm', 'videoAniOpInfoRfPowerLevel',\n",
              "       'videoAniOperState', 'alarms', 'Alarm_SECS', 'Session_SECS',\n",
              "       'total_stops', 'SA_TSO', 'score', 'TMAX', 'TMIN', 'PRCP',\n",
              "       'download_speed', 'upload_speed'],\n",
              "      dtype='object')"
            ]
          },
          "metadata": {},
          "execution_count": 247
        }
      ]
    },
    {
      "cell_type": "code",
      "source": [
        "test_data.isna().sum()"
      ],
      "metadata": {
        "colab": {
          "base_uri": "https://localhost:8080/"
        },
        "id": "qrKm3RWyCMMs",
        "outputId": "91a9fa0c-cd12-4dd6-a0c5-36b5eb2887e2"
      },
      "execution_count": 248,
      "outputs": [
        {
          "output_type": "execute_result",
          "data": {
            "text/plain": [
              "berDownstream                          0\n",
              "berUpstream                            0\n",
              "networkRxLevel                         0\n",
              "modelRxLevel                           0\n",
              "modemTxLevel                           0\n",
              "distance                               0\n",
              "opticalTemperature                     0\n",
              "opticalVoltage                         0\n",
              "modemType                              0\n",
              "status                                 0\n",
              "ranged                                 0\n",
              "laserBiasThreshold                     0\n",
              "laserBiasCurrent                       0\n",
              "videoAniAgcModePlanned                 0\n",
              "videoAniAgcSetting                     0\n",
              "videoAniOpInfoOpticalSignalLevel       0\n",
              "videoAniOpInfoOpticalSignalLevelDbm    0\n",
              "videoAniOpInfoRfPowerLevel             0\n",
              "videoAniOperState                      0\n",
              "alarms                                 0\n",
              "Alarm_SECS                             0\n",
              "Session_SECS                           0\n",
              "total_stops                            0\n",
              "SA_TSO                                 0\n",
              "score                                  0\n",
              "TMAX                                   0\n",
              "TMIN                                   0\n",
              "PRCP                                   0\n",
              "download_speed                         0\n",
              "upload_speed                           0\n",
              "dtype: int64"
            ]
          },
          "metadata": {},
          "execution_count": 248
        }
      ]
    },
    {
      "cell_type": "markdown",
      "source": [
        "## Predicting the results"
      ],
      "metadata": {
        "id": "pnF59Xit_f9B"
      }
    },
    {
      "cell_type": "code",
      "source": [
        "y_pred = loaded_model.predict(test_data)"
      ],
      "metadata": {
        "id": "Gt80L0G5_Wkm"
      },
      "execution_count": 250,
      "outputs": []
    },
    {
      "cell_type": "code",
      "source": [
        "Output = pd.DataFrame({'Customer': test['Customer'], 'Service_Repair': y_pred})"
      ],
      "metadata": {
        "id": "elH5W4wxCpQm"
      },
      "execution_count": 251,
      "outputs": []
    },
    {
      "cell_type": "code",
      "source": [
        "Output['Service_Repair'].value_counts()"
      ],
      "metadata": {
        "colab": {
          "base_uri": "https://localhost:8080/"
        },
        "id": "-dGRnRPOCxq3",
        "outputId": "7afc24a4-d1a4-4c28-8bff-78cda705ad4b"
      },
      "execution_count": 252,
      "outputs": [
        {
          "output_type": "execute_result",
          "data": {
            "text/plain": [
              "0    60954\n",
              "1      195\n",
              "Name: Service_Repair, dtype: int64"
            ]
          },
          "metadata": {},
          "execution_count": 252
        }
      ]
    },
    {
      "cell_type": "markdown",
      "source": [
        "# Printing the results"
      ],
      "metadata": {
        "id": "Do_8R8z8DBUd"
      }
    },
    {
      "cell_type": "code",
      "source": [
        "Output"
      ],
      "metadata": {
        "colab": {
          "base_uri": "https://localhost:8080/",
          "height": 423
        },
        "id": "uayjCme5eYJ8",
        "outputId": "d069a479-4ef3-4e78-8332-34849b819707"
      },
      "execution_count": 253,
      "outputs": [
        {
          "output_type": "execute_result",
          "data": {
            "text/plain": [
              "            Customer  Service_Repair\n",
              "0      1563876974037               0\n",
              "1      1563345053790               0\n",
              "2      1564046340927               0\n",
              "3      1563976424210               0\n",
              "4      1563989812140               0\n",
              "...              ...             ...\n",
              "61144   724063906153               0\n",
              "61145  1330701009764               0\n",
              "61146  1330701009764               0\n",
              "61147  1330003654282               0\n",
              "61148  1564065156740               0\n",
              "\n",
              "[61149 rows x 2 columns]"
            ],
            "text/html": [
              "\n",
              "  <div id=\"df-5f37f6ae-974e-469e-936f-fd7557833069\" class=\"colab-df-container\">\n",
              "    <div>\n",
              "<style scoped>\n",
              "    .dataframe tbody tr th:only-of-type {\n",
              "        vertical-align: middle;\n",
              "    }\n",
              "\n",
              "    .dataframe tbody tr th {\n",
              "        vertical-align: top;\n",
              "    }\n",
              "\n",
              "    .dataframe thead th {\n",
              "        text-align: right;\n",
              "    }\n",
              "</style>\n",
              "<table border=\"1\" class=\"dataframe\">\n",
              "  <thead>\n",
              "    <tr style=\"text-align: right;\">\n",
              "      <th></th>\n",
              "      <th>Customer</th>\n",
              "      <th>Service_Repair</th>\n",
              "    </tr>\n",
              "  </thead>\n",
              "  <tbody>\n",
              "    <tr>\n",
              "      <th>0</th>\n",
              "      <td>1563876974037</td>\n",
              "      <td>0</td>\n",
              "    </tr>\n",
              "    <tr>\n",
              "      <th>1</th>\n",
              "      <td>1563345053790</td>\n",
              "      <td>0</td>\n",
              "    </tr>\n",
              "    <tr>\n",
              "      <th>2</th>\n",
              "      <td>1564046340927</td>\n",
              "      <td>0</td>\n",
              "    </tr>\n",
              "    <tr>\n",
              "      <th>3</th>\n",
              "      <td>1563976424210</td>\n",
              "      <td>0</td>\n",
              "    </tr>\n",
              "    <tr>\n",
              "      <th>4</th>\n",
              "      <td>1563989812140</td>\n",
              "      <td>0</td>\n",
              "    </tr>\n",
              "    <tr>\n",
              "      <th>...</th>\n",
              "      <td>...</td>\n",
              "      <td>...</td>\n",
              "    </tr>\n",
              "    <tr>\n",
              "      <th>61144</th>\n",
              "      <td>724063906153</td>\n",
              "      <td>0</td>\n",
              "    </tr>\n",
              "    <tr>\n",
              "      <th>61145</th>\n",
              "      <td>1330701009764</td>\n",
              "      <td>0</td>\n",
              "    </tr>\n",
              "    <tr>\n",
              "      <th>61146</th>\n",
              "      <td>1330701009764</td>\n",
              "      <td>0</td>\n",
              "    </tr>\n",
              "    <tr>\n",
              "      <th>61147</th>\n",
              "      <td>1330003654282</td>\n",
              "      <td>0</td>\n",
              "    </tr>\n",
              "    <tr>\n",
              "      <th>61148</th>\n",
              "      <td>1564065156740</td>\n",
              "      <td>0</td>\n",
              "    </tr>\n",
              "  </tbody>\n",
              "</table>\n",
              "<p>61149 rows × 2 columns</p>\n",
              "</div>\n",
              "    <div class=\"colab-df-buttons\">\n",
              "\n",
              "  <div class=\"colab-df-container\">\n",
              "    <button class=\"colab-df-convert\" onclick=\"convertToInteractive('df-5f37f6ae-974e-469e-936f-fd7557833069')\"\n",
              "            title=\"Convert this dataframe to an interactive table.\"\n",
              "            style=\"display:none;\">\n",
              "\n",
              "  <svg xmlns=\"http://www.w3.org/2000/svg\" height=\"24px\" viewBox=\"0 -960 960 960\">\n",
              "    <path d=\"M120-120v-720h720v720H120Zm60-500h600v-160H180v160Zm220 220h160v-160H400v160Zm0 220h160v-160H400v160ZM180-400h160v-160H180v160Zm440 0h160v-160H620v160ZM180-180h160v-160H180v160Zm440 0h160v-160H620v160Z\"/>\n",
              "  </svg>\n",
              "    </button>\n",
              "\n",
              "  <style>\n",
              "    .colab-df-container {\n",
              "      display:flex;\n",
              "      gap: 12px;\n",
              "    }\n",
              "\n",
              "    .colab-df-convert {\n",
              "      background-color: #E8F0FE;\n",
              "      border: none;\n",
              "      border-radius: 50%;\n",
              "      cursor: pointer;\n",
              "      display: none;\n",
              "      fill: #1967D2;\n",
              "      height: 32px;\n",
              "      padding: 0 0 0 0;\n",
              "      width: 32px;\n",
              "    }\n",
              "\n",
              "    .colab-df-convert:hover {\n",
              "      background-color: #E2EBFA;\n",
              "      box-shadow: 0px 1px 2px rgba(60, 64, 67, 0.3), 0px 1px 3px 1px rgba(60, 64, 67, 0.15);\n",
              "      fill: #174EA6;\n",
              "    }\n",
              "\n",
              "    .colab-df-buttons div {\n",
              "      margin-bottom: 4px;\n",
              "    }\n",
              "\n",
              "    [theme=dark] .colab-df-convert {\n",
              "      background-color: #3B4455;\n",
              "      fill: #D2E3FC;\n",
              "    }\n",
              "\n",
              "    [theme=dark] .colab-df-convert:hover {\n",
              "      background-color: #434B5C;\n",
              "      box-shadow: 0px 1px 3px 1px rgba(0, 0, 0, 0.15);\n",
              "      filter: drop-shadow(0px 1px 2px rgba(0, 0, 0, 0.3));\n",
              "      fill: #FFFFFF;\n",
              "    }\n",
              "  </style>\n",
              "\n",
              "    <script>\n",
              "      const buttonEl =\n",
              "        document.querySelector('#df-5f37f6ae-974e-469e-936f-fd7557833069 button.colab-df-convert');\n",
              "      buttonEl.style.display =\n",
              "        google.colab.kernel.accessAllowed ? 'block' : 'none';\n",
              "\n",
              "      async function convertToInteractive(key) {\n",
              "        const element = document.querySelector('#df-5f37f6ae-974e-469e-936f-fd7557833069');\n",
              "        const dataTable =\n",
              "          await google.colab.kernel.invokeFunction('convertToInteractive',\n",
              "                                                    [key], {});\n",
              "        if (!dataTable) return;\n",
              "\n",
              "        const docLinkHtml = 'Like what you see? Visit the ' +\n",
              "          '<a target=\"_blank\" href=https://colab.research.google.com/notebooks/data_table.ipynb>data table notebook</a>'\n",
              "          + ' to learn more about interactive tables.';\n",
              "        element.innerHTML = '';\n",
              "        dataTable['output_type'] = 'display_data';\n",
              "        await google.colab.output.renderOutput(dataTable, element);\n",
              "        const docLink = document.createElement('div');\n",
              "        docLink.innerHTML = docLinkHtml;\n",
              "        element.appendChild(docLink);\n",
              "      }\n",
              "    </script>\n",
              "  </div>\n",
              "\n",
              "\n",
              "<div id=\"df-18624f63-0ad6-4ffe-aacd-d4d40c560268\">\n",
              "  <button class=\"colab-df-quickchart\" onclick=\"quickchart('df-18624f63-0ad6-4ffe-aacd-d4d40c560268')\"\n",
              "            title=\"Suggest charts.\"\n",
              "            style=\"display:none;\">\n",
              "\n",
              "<svg xmlns=\"http://www.w3.org/2000/svg\" height=\"24px\"viewBox=\"0 0 24 24\"\n",
              "     width=\"24px\">\n",
              "    <g>\n",
              "        <path d=\"M19 3H5c-1.1 0-2 .9-2 2v14c0 1.1.9 2 2 2h14c1.1 0 2-.9 2-2V5c0-1.1-.9-2-2-2zM9 17H7v-7h2v7zm4 0h-2V7h2v10zm4 0h-2v-4h2v4z\"/>\n",
              "    </g>\n",
              "</svg>\n",
              "  </button>\n",
              "\n",
              "<style>\n",
              "  .colab-df-quickchart {\n",
              "      --bg-color: #E8F0FE;\n",
              "      --fill-color: #1967D2;\n",
              "      --hover-bg-color: #E2EBFA;\n",
              "      --hover-fill-color: #174EA6;\n",
              "      --disabled-fill-color: #AAA;\n",
              "      --disabled-bg-color: #DDD;\n",
              "  }\n",
              "\n",
              "  [theme=dark] .colab-df-quickchart {\n",
              "      --bg-color: #3B4455;\n",
              "      --fill-color: #D2E3FC;\n",
              "      --hover-bg-color: #434B5C;\n",
              "      --hover-fill-color: #FFFFFF;\n",
              "      --disabled-bg-color: #3B4455;\n",
              "      --disabled-fill-color: #666;\n",
              "  }\n",
              "\n",
              "  .colab-df-quickchart {\n",
              "    background-color: var(--bg-color);\n",
              "    border: none;\n",
              "    border-radius: 50%;\n",
              "    cursor: pointer;\n",
              "    display: none;\n",
              "    fill: var(--fill-color);\n",
              "    height: 32px;\n",
              "    padding: 0;\n",
              "    width: 32px;\n",
              "  }\n",
              "\n",
              "  .colab-df-quickchart:hover {\n",
              "    background-color: var(--hover-bg-color);\n",
              "    box-shadow: 0 1px 2px rgba(60, 64, 67, 0.3), 0 1px 3px 1px rgba(60, 64, 67, 0.15);\n",
              "    fill: var(--button-hover-fill-color);\n",
              "  }\n",
              "\n",
              "  .colab-df-quickchart-complete:disabled,\n",
              "  .colab-df-quickchart-complete:disabled:hover {\n",
              "    background-color: var(--disabled-bg-color);\n",
              "    fill: var(--disabled-fill-color);\n",
              "    box-shadow: none;\n",
              "  }\n",
              "\n",
              "  .colab-df-spinner {\n",
              "    border: 2px solid var(--fill-color);\n",
              "    border-color: transparent;\n",
              "    border-bottom-color: var(--fill-color);\n",
              "    animation:\n",
              "      spin 1s steps(1) infinite;\n",
              "  }\n",
              "\n",
              "  @keyframes spin {\n",
              "    0% {\n",
              "      border-color: transparent;\n",
              "      border-bottom-color: var(--fill-color);\n",
              "      border-left-color: var(--fill-color);\n",
              "    }\n",
              "    20% {\n",
              "      border-color: transparent;\n",
              "      border-left-color: var(--fill-color);\n",
              "      border-top-color: var(--fill-color);\n",
              "    }\n",
              "    30% {\n",
              "      border-color: transparent;\n",
              "      border-left-color: var(--fill-color);\n",
              "      border-top-color: var(--fill-color);\n",
              "      border-right-color: var(--fill-color);\n",
              "    }\n",
              "    40% {\n",
              "      border-color: transparent;\n",
              "      border-right-color: var(--fill-color);\n",
              "      border-top-color: var(--fill-color);\n",
              "    }\n",
              "    60% {\n",
              "      border-color: transparent;\n",
              "      border-right-color: var(--fill-color);\n",
              "    }\n",
              "    80% {\n",
              "      border-color: transparent;\n",
              "      border-right-color: var(--fill-color);\n",
              "      border-bottom-color: var(--fill-color);\n",
              "    }\n",
              "    90% {\n",
              "      border-color: transparent;\n",
              "      border-bottom-color: var(--fill-color);\n",
              "    }\n",
              "  }\n",
              "</style>\n",
              "\n",
              "  <script>\n",
              "    async function quickchart(key) {\n",
              "      const quickchartButtonEl =\n",
              "        document.querySelector('#' + key + ' button');\n",
              "      quickchartButtonEl.disabled = true;  // To prevent multiple clicks.\n",
              "      quickchartButtonEl.classList.add('colab-df-spinner');\n",
              "      try {\n",
              "        const charts = await google.colab.kernel.invokeFunction(\n",
              "            'suggestCharts', [key], {});\n",
              "      } catch (error) {\n",
              "        console.error('Error during call to suggestCharts:', error);\n",
              "      }\n",
              "      quickchartButtonEl.classList.remove('colab-df-spinner');\n",
              "      quickchartButtonEl.classList.add('colab-df-quickchart-complete');\n",
              "    }\n",
              "    (() => {\n",
              "      let quickchartButtonEl =\n",
              "        document.querySelector('#df-18624f63-0ad6-4ffe-aacd-d4d40c560268 button');\n",
              "      quickchartButtonEl.style.display =\n",
              "        google.colab.kernel.accessAllowed ? 'block' : 'none';\n",
              "    })();\n",
              "  </script>\n",
              "</div>\n",
              "    </div>\n",
              "  </div>\n"
            ]
          },
          "metadata": {},
          "execution_count": 253
        }
      ]
    },
    {
      "cell_type": "code",
      "source": [
        "Output.to_csv(\"results.csv\")"
      ],
      "metadata": {
        "id": "DUfTZOxZDIi6"
      },
      "execution_count": 254,
      "outputs": []
    },
    {
      "cell_type": "code",
      "source": [],
      "metadata": {
        "id": "gz_7LWX2DN9u"
      },
      "execution_count": null,
      "outputs": []
    }
  ]
}